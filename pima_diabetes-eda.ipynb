{
 "cells": [
  {
   "cell_type": "markdown",
   "id": "c53e2345",
   "metadata": {},
   "source": [
    "# Exploratory Data Analysis"
   ]
  },
  {
   "cell_type": "markdown",
   "id": "cfc2acea",
   "metadata": {},
   "source": [
    "## 데이터 구성\n",
    "- Pregnancies : 임신 횟수\n",
    "- Glucose : 2시간 동안의 경구 포도당 내성 검사에서 혈장 포도당 농도\n",
    "- BloodPressure : 이완기 혈압 (mm Hg)\n",
    "- SkinThickness : 삼두근 피부 주름 두께 (mm), 체지방을 추정하는데 사용되는 값\n",
    "- Insulin : 2시간 혈청 인슐린 (mu U / ml)\n",
    "- BMI : 체질량 지수 (체중kg / 키(m)^2)\n",
    "- DiabetesPedigreeFunction : 당뇨병 혈통 기능\n",
    "- Age : 나이\n",
    "- Outcome : 768개 중에 268개의 결과 클래스 변수(0 또는 1)는 1이고 나머지는 0입니다."
   ]
  },
  {
   "cell_type": "code",
   "execution_count": 17,
   "id": "d00abcdf",
   "metadata": {},
   "outputs": [],
   "source": [
    "import pandas as pd\n",
    "import numpy as np\n",
    "import seaborn as sns\n",
    "import matplotlib.pyplot as plt\n",
    "\n",
    "#%matplotlib inline #구버전 주피터에 있어야 보여"
   ]
  },
  {
   "cell_type": "code",
   "execution_count": 5,
   "id": "1b5c600a",
   "metadata": {},
   "outputs": [
    {
     "data": {
      "text/plain": [
       "(768, 9)"
      ]
     },
     "execution_count": 5,
     "metadata": {},
     "output_type": "execute_result"
    }
   ],
   "source": [
    "df = pd.read_csv('data/diabetes.csv')\n",
    "df.shape"
   ]
  },
  {
   "cell_type": "code",
   "execution_count": 3,
   "id": "8e19ef79",
   "metadata": {},
   "outputs": [
    {
     "data": {
      "text/html": [
       "<div>\n",
       "<style scoped>\n",
       "    .dataframe tbody tr th:only-of-type {\n",
       "        vertical-align: middle;\n",
       "    }\n",
       "\n",
       "    .dataframe tbody tr th {\n",
       "        vertical-align: top;\n",
       "    }\n",
       "\n",
       "    .dataframe thead th {\n",
       "        text-align: right;\n",
       "    }\n",
       "</style>\n",
       "<table border=\"1\" class=\"dataframe\">\n",
       "  <thead>\n",
       "    <tr style=\"text-align: right;\">\n",
       "      <th></th>\n",
       "      <th>Pregnancies</th>\n",
       "      <th>Glucose</th>\n",
       "      <th>BloodPressure</th>\n",
       "      <th>SkinThickness</th>\n",
       "      <th>Insulin</th>\n",
       "      <th>BMI</th>\n",
       "      <th>DiabetesPedigreeFunction</th>\n",
       "      <th>Age</th>\n",
       "      <th>Outcome</th>\n",
       "    </tr>\n",
       "  </thead>\n",
       "  <tbody>\n",
       "    <tr>\n",
       "      <th>0</th>\n",
       "      <td>6</td>\n",
       "      <td>148</td>\n",
       "      <td>72</td>\n",
       "      <td>35</td>\n",
       "      <td>0</td>\n",
       "      <td>33.6</td>\n",
       "      <td>0.627</td>\n",
       "      <td>50</td>\n",
       "      <td>1</td>\n",
       "    </tr>\n",
       "    <tr>\n",
       "      <th>1</th>\n",
       "      <td>1</td>\n",
       "      <td>85</td>\n",
       "      <td>66</td>\n",
       "      <td>29</td>\n",
       "      <td>0</td>\n",
       "      <td>26.6</td>\n",
       "      <td>0.351</td>\n",
       "      <td>31</td>\n",
       "      <td>0</td>\n",
       "    </tr>\n",
       "    <tr>\n",
       "      <th>2</th>\n",
       "      <td>8</td>\n",
       "      <td>183</td>\n",
       "      <td>64</td>\n",
       "      <td>0</td>\n",
       "      <td>0</td>\n",
       "      <td>23.3</td>\n",
       "      <td>0.672</td>\n",
       "      <td>32</td>\n",
       "      <td>1</td>\n",
       "    </tr>\n",
       "    <tr>\n",
       "      <th>3</th>\n",
       "      <td>1</td>\n",
       "      <td>89</td>\n",
       "      <td>66</td>\n",
       "      <td>23</td>\n",
       "      <td>94</td>\n",
       "      <td>28.1</td>\n",
       "      <td>0.167</td>\n",
       "      <td>21</td>\n",
       "      <td>0</td>\n",
       "    </tr>\n",
       "    <tr>\n",
       "      <th>4</th>\n",
       "      <td>0</td>\n",
       "      <td>137</td>\n",
       "      <td>40</td>\n",
       "      <td>35</td>\n",
       "      <td>168</td>\n",
       "      <td>43.1</td>\n",
       "      <td>2.288</td>\n",
       "      <td>33</td>\n",
       "      <td>1</td>\n",
       "    </tr>\n",
       "  </tbody>\n",
       "</table>\n",
       "</div>"
      ],
      "text/plain": [
       "   Pregnancies  Glucose  BloodPressure  SkinThickness  Insulin   BMI  \\\n",
       "0            6      148             72             35        0  33.6   \n",
       "1            1       85             66             29        0  26.6   \n",
       "2            8      183             64              0        0  23.3   \n",
       "3            1       89             66             23       94  28.1   \n",
       "4            0      137             40             35      168  43.1   \n",
       "\n",
       "   DiabetesPedigreeFunction  Age  Outcome  \n",
       "0                     0.627   50        1  \n",
       "1                     0.351   31        0  \n",
       "2                     0.672   32        1  \n",
       "3                     0.167   21        0  \n",
       "4                     2.288   33        1  "
      ]
     },
     "execution_count": 3,
     "metadata": {},
     "output_type": "execute_result"
    }
   ],
   "source": [
    "df.head()"
   ]
  },
  {
   "cell_type": "code",
   "execution_count": 4,
   "id": "98dea6fc",
   "metadata": {},
   "outputs": [
    {
     "name": "stdout",
     "output_type": "stream",
     "text": [
      "<class 'pandas.core.frame.DataFrame'>\n",
      "RangeIndex: 768 entries, 0 to 767\n",
      "Data columns (total 9 columns):\n",
      " #   Column                    Non-Null Count  Dtype  \n",
      "---  ------                    --------------  -----  \n",
      " 0   Pregnancies               768 non-null    int64  \n",
      " 1   Glucose                   768 non-null    int64  \n",
      " 2   BloodPressure             768 non-null    int64  \n",
      " 3   SkinThickness             768 non-null    int64  \n",
      " 4   Insulin                   768 non-null    int64  \n",
      " 5   BMI                       768 non-null    float64\n",
      " 6   DiabetesPedigreeFunction  768 non-null    float64\n",
      " 7   Age                       768 non-null    int64  \n",
      " 8   Outcome                   768 non-null    int64  \n",
      "dtypes: float64(2), int64(7)\n",
      "memory usage: 54.1 KB\n"
     ]
    }
   ],
   "source": [
    "df.info()"
   ]
  },
  {
   "cell_type": "code",
   "execution_count": 5,
   "id": "2042a014",
   "metadata": {
    "collapsed": true
   },
   "outputs": [
    {
     "data": {
      "text/html": [
       "<div>\n",
       "<style scoped>\n",
       "    .dataframe tbody tr th:only-of-type {\n",
       "        vertical-align: middle;\n",
       "    }\n",
       "\n",
       "    .dataframe tbody tr th {\n",
       "        vertical-align: top;\n",
       "    }\n",
       "\n",
       "    .dataframe thead th {\n",
       "        text-align: right;\n",
       "    }\n",
       "</style>\n",
       "<table border=\"1\" class=\"dataframe\">\n",
       "  <thead>\n",
       "    <tr style=\"text-align: right;\">\n",
       "      <th></th>\n",
       "      <th>Pregnancies</th>\n",
       "      <th>Glucose</th>\n",
       "      <th>BloodPressure</th>\n",
       "      <th>SkinThickness</th>\n",
       "      <th>Insulin</th>\n",
       "      <th>BMI</th>\n",
       "      <th>DiabetesPedigreeFunction</th>\n",
       "      <th>Age</th>\n",
       "      <th>Outcome</th>\n",
       "    </tr>\n",
       "  </thead>\n",
       "  <tbody>\n",
       "    <tr>\n",
       "      <th>0</th>\n",
       "      <td>False</td>\n",
       "      <td>False</td>\n",
       "      <td>False</td>\n",
       "      <td>False</td>\n",
       "      <td>False</td>\n",
       "      <td>False</td>\n",
       "      <td>False</td>\n",
       "      <td>False</td>\n",
       "      <td>False</td>\n",
       "    </tr>\n",
       "    <tr>\n",
       "      <th>1</th>\n",
       "      <td>False</td>\n",
       "      <td>False</td>\n",
       "      <td>False</td>\n",
       "      <td>False</td>\n",
       "      <td>False</td>\n",
       "      <td>False</td>\n",
       "      <td>False</td>\n",
       "      <td>False</td>\n",
       "      <td>False</td>\n",
       "    </tr>\n",
       "    <tr>\n",
       "      <th>2</th>\n",
       "      <td>False</td>\n",
       "      <td>False</td>\n",
       "      <td>False</td>\n",
       "      <td>False</td>\n",
       "      <td>False</td>\n",
       "      <td>False</td>\n",
       "      <td>False</td>\n",
       "      <td>False</td>\n",
       "      <td>False</td>\n",
       "    </tr>\n",
       "    <tr>\n",
       "      <th>3</th>\n",
       "      <td>False</td>\n",
       "      <td>False</td>\n",
       "      <td>False</td>\n",
       "      <td>False</td>\n",
       "      <td>False</td>\n",
       "      <td>False</td>\n",
       "      <td>False</td>\n",
       "      <td>False</td>\n",
       "      <td>False</td>\n",
       "    </tr>\n",
       "    <tr>\n",
       "      <th>4</th>\n",
       "      <td>False</td>\n",
       "      <td>False</td>\n",
       "      <td>False</td>\n",
       "      <td>False</td>\n",
       "      <td>False</td>\n",
       "      <td>False</td>\n",
       "      <td>False</td>\n",
       "      <td>False</td>\n",
       "      <td>False</td>\n",
       "    </tr>\n",
       "  </tbody>\n",
       "</table>\n",
       "</div>"
      ],
      "text/plain": [
       "   Pregnancies  Glucose  BloodPressure  SkinThickness  Insulin    BMI  \\\n",
       "0        False    False          False          False    False  False   \n",
       "1        False    False          False          False    False  False   \n",
       "2        False    False          False          False    False  False   \n",
       "3        False    False          False          False    False  False   \n",
       "4        False    False          False          False    False  False   \n",
       "\n",
       "   DiabetesPedigreeFunction    Age  Outcome  \n",
       "0                     False  False    False  \n",
       "1                     False  False    False  \n",
       "2                     False  False    False  \n",
       "3                     False  False    False  \n",
       "4                     False  False    False  "
      ]
     },
     "execution_count": 5,
     "metadata": {},
     "output_type": "execute_result"
    }
   ],
   "source": [
    "df_null = df.isnull()\n",
    "# df_null.head()"
   ]
  },
  {
   "cell_type": "code",
   "execution_count": 6,
   "id": "087f6782",
   "metadata": {
    "collapsed": true
   },
   "outputs": [
    {
     "data": {
      "text/plain": [
       "Pregnancies                 0\n",
       "Glucose                     0\n",
       "BloodPressure               0\n",
       "SkinThickness               0\n",
       "Insulin                     0\n",
       "BMI                         0\n",
       "DiabetesPedigreeFunction    0\n",
       "Age                         0\n",
       "Outcome                     0\n",
       "dtype: int64"
      ]
     },
     "execution_count": 6,
     "metadata": {},
     "output_type": "execute_result"
    }
   ],
   "source": [
    "df_null.sum()"
   ]
  },
  {
   "cell_type": "code",
   "execution_count": 7,
   "id": "a26ee48b",
   "metadata": {},
   "outputs": [
    {
     "data": {
      "text/html": [
       "<div>\n",
       "<style scoped>\n",
       "    .dataframe tbody tr th:only-of-type {\n",
       "        vertical-align: middle;\n",
       "    }\n",
       "\n",
       "    .dataframe tbody tr th {\n",
       "        vertical-align: top;\n",
       "    }\n",
       "\n",
       "    .dataframe thead th {\n",
       "        text-align: right;\n",
       "    }\n",
       "</style>\n",
       "<table border=\"1\" class=\"dataframe\">\n",
       "  <thead>\n",
       "    <tr style=\"text-align: right;\">\n",
       "      <th></th>\n",
       "      <th>Pregnancies</th>\n",
       "      <th>Glucose</th>\n",
       "      <th>BloodPressure</th>\n",
       "      <th>SkinThickness</th>\n",
       "      <th>Insulin</th>\n",
       "      <th>BMI</th>\n",
       "      <th>DiabetesPedigreeFunction</th>\n",
       "      <th>Age</th>\n",
       "      <th>Outcome</th>\n",
       "    </tr>\n",
       "  </thead>\n",
       "  <tbody>\n",
       "    <tr>\n",
       "      <th>count</th>\n",
       "      <td>768.000000</td>\n",
       "      <td>768.000000</td>\n",
       "      <td>768.000000</td>\n",
       "      <td>768.000000</td>\n",
       "      <td>768.000000</td>\n",
       "      <td>768.000000</td>\n",
       "      <td>768.000000</td>\n",
       "      <td>768.000000</td>\n",
       "      <td>768.000000</td>\n",
       "    </tr>\n",
       "    <tr>\n",
       "      <th>mean</th>\n",
       "      <td>3.845052</td>\n",
       "      <td>120.894531</td>\n",
       "      <td>69.105469</td>\n",
       "      <td>20.536458</td>\n",
       "      <td>79.799479</td>\n",
       "      <td>31.992578</td>\n",
       "      <td>0.471876</td>\n",
       "      <td>33.240885</td>\n",
       "      <td>0.348958</td>\n",
       "    </tr>\n",
       "    <tr>\n",
       "      <th>std</th>\n",
       "      <td>3.369578</td>\n",
       "      <td>31.972618</td>\n",
       "      <td>19.355807</td>\n",
       "      <td>15.952218</td>\n",
       "      <td>115.244002</td>\n",
       "      <td>7.884160</td>\n",
       "      <td>0.331329</td>\n",
       "      <td>11.760232</td>\n",
       "      <td>0.476951</td>\n",
       "    </tr>\n",
       "    <tr>\n",
       "      <th>min</th>\n",
       "      <td>0.000000</td>\n",
       "      <td>0.000000</td>\n",
       "      <td>0.000000</td>\n",
       "      <td>0.000000</td>\n",
       "      <td>0.000000</td>\n",
       "      <td>0.000000</td>\n",
       "      <td>0.078000</td>\n",
       "      <td>21.000000</td>\n",
       "      <td>0.000000</td>\n",
       "    </tr>\n",
       "    <tr>\n",
       "      <th>25%</th>\n",
       "      <td>1.000000</td>\n",
       "      <td>99.000000</td>\n",
       "      <td>62.000000</td>\n",
       "      <td>0.000000</td>\n",
       "      <td>0.000000</td>\n",
       "      <td>27.300000</td>\n",
       "      <td>0.243750</td>\n",
       "      <td>24.000000</td>\n",
       "      <td>0.000000</td>\n",
       "    </tr>\n",
       "    <tr>\n",
       "      <th>50%</th>\n",
       "      <td>3.000000</td>\n",
       "      <td>117.000000</td>\n",
       "      <td>72.000000</td>\n",
       "      <td>23.000000</td>\n",
       "      <td>30.500000</td>\n",
       "      <td>32.000000</td>\n",
       "      <td>0.372500</td>\n",
       "      <td>29.000000</td>\n",
       "      <td>0.000000</td>\n",
       "    </tr>\n",
       "    <tr>\n",
       "      <th>75%</th>\n",
       "      <td>6.000000</td>\n",
       "      <td>140.250000</td>\n",
       "      <td>80.000000</td>\n",
       "      <td>32.000000</td>\n",
       "      <td>127.250000</td>\n",
       "      <td>36.600000</td>\n",
       "      <td>0.626250</td>\n",
       "      <td>41.000000</td>\n",
       "      <td>1.000000</td>\n",
       "    </tr>\n",
       "    <tr>\n",
       "      <th>max</th>\n",
       "      <td>17.000000</td>\n",
       "      <td>199.000000</td>\n",
       "      <td>122.000000</td>\n",
       "      <td>99.000000</td>\n",
       "      <td>846.000000</td>\n",
       "      <td>67.100000</td>\n",
       "      <td>2.420000</td>\n",
       "      <td>81.000000</td>\n",
       "      <td>1.000000</td>\n",
       "    </tr>\n",
       "  </tbody>\n",
       "</table>\n",
       "</div>"
      ],
      "text/plain": [
       "       Pregnancies     Glucose  BloodPressure  SkinThickness     Insulin  \\\n",
       "count   768.000000  768.000000     768.000000     768.000000  768.000000   \n",
       "mean      3.845052  120.894531      69.105469      20.536458   79.799479   \n",
       "std       3.369578   31.972618      19.355807      15.952218  115.244002   \n",
       "min       0.000000    0.000000       0.000000       0.000000    0.000000   \n",
       "25%       1.000000   99.000000      62.000000       0.000000    0.000000   \n",
       "50%       3.000000  117.000000      72.000000      23.000000   30.500000   \n",
       "75%       6.000000  140.250000      80.000000      32.000000  127.250000   \n",
       "max      17.000000  199.000000     122.000000      99.000000  846.000000   \n",
       "\n",
       "              BMI  DiabetesPedigreeFunction         Age     Outcome  \n",
       "count  768.000000                768.000000  768.000000  768.000000  \n",
       "mean    31.992578                  0.471876   33.240885    0.348958  \n",
       "std      7.884160                  0.331329   11.760232    0.476951  \n",
       "min      0.000000                  0.078000   21.000000    0.000000  \n",
       "25%     27.300000                  0.243750   24.000000    0.000000  \n",
       "50%     32.000000                  0.372500   29.000000    0.000000  \n",
       "75%     36.600000                  0.626250   41.000000    1.000000  \n",
       "max     67.100000                  2.420000   81.000000    1.000000  "
      ]
     },
     "execution_count": 7,
     "metadata": {},
     "output_type": "execute_result"
    }
   ],
   "source": [
    "#df.describe(\"object\") \n",
    "#0인 값 = 결측치를 의미할 거라는 생각하기\n",
    "df.describe(include='number') #include object "
   ]
  },
  {
   "cell_type": "markdown",
   "id": "2233f373",
   "metadata": {},
   "source": [
    "# 학습/예측 칼럼 만들기 \n",
    " - 가장 마지막에 있는 'Outcome'은 label값"
   ]
  },
  {
   "cell_type": "code",
   "execution_count": 8,
   "id": "ce6888f8",
   "metadata": {},
   "outputs": [
    {
     "data": {
      "text/plain": [
       "Index(['Pregnancies', 'Glucose', 'BloodPressure', 'SkinThickness', 'Insulin',\n",
       "       'BMI', 'DiabetesPedigreeFunction', 'Age'],\n",
       "      dtype='object')"
      ]
     },
     "execution_count": 8,
     "metadata": {},
     "output_type": "execute_result"
    }
   ],
   "source": [
    "df.columns[0:-1] #-1번째 제외 (마지막에서 2번째 열까지)"
   ]
  },
  {
   "cell_type": "code",
   "execution_count": 9,
   "id": "1745bb8a",
   "metadata": {},
   "outputs": [
    {
     "data": {
      "text/plain": [
       "['Pregnancies',\n",
       " 'Glucose',\n",
       " 'BloodPressure',\n",
       " 'SkinThickness',\n",
       " 'Insulin',\n",
       " 'BMI',\n",
       " 'DiabetesPedigreeFunction',\n",
       " 'Age']"
      ]
     },
     "execution_count": 9,
     "metadata": {},
     "output_type": "execute_result"
    }
   ],
   "source": [
    "feature_columns = df.columns[0:-1].tolist()\n",
    "feature_columns"
   ]
  },
  {
   "cell_type": "markdown",
   "id": "6011a72e",
   "metadata": {},
   "source": [
    "# 결측치 시각화\n",
    "인슐린 혈압 등의 값은 0 값이 결측치라고 볼 수 있음  \n",
    "따라서 0 값을 결측치로 처리하고 시각화"
   ]
  },
  {
   "cell_type": "code",
   "execution_count": 10,
   "id": "ccff87c1",
   "metadata": {},
   "outputs": [
    {
     "data": {
      "text/plain": [
       "['Glucose',\n",
       " 'BloodPressure',\n",
       " 'SkinThickness',\n",
       " 'Insulin',\n",
       " 'BMI',\n",
       " 'DiabetesPedigreeFunction',\n",
       " 'Age']"
      ]
     },
     "execution_count": 10,
     "metadata": {},
     "output_type": "execute_result"
    }
   ],
   "source": [
    "cols = feature_columns[1:]\n",
    "cols"
   ]
  },
  {
   "cell_type": "code",
   "execution_count": 11,
   "id": "9aabba3e",
   "metadata": {},
   "outputs": [
    {
     "data": {
      "text/plain": [
       "Glucose                       5\n",
       "BloodPressure                35\n",
       "SkinThickness               227\n",
       "Insulin                     374\n",
       "BMI                          11\n",
       "DiabetesPedigreeFunction      0\n",
       "Age                           0\n",
       "dtype: int64"
      ]
     },
     "execution_count": 11,
     "metadata": {},
     "output_type": "execute_result"
    }
   ],
   "source": [
    "#0값을 결측치라 가정\n",
    "df_null = df[cols].replace(0, np.nan)\n",
    "df_null = df_null.isnull()\n",
    "df_null.sum()"
   ]
  },
  {
   "cell_type": "code",
   "execution_count": 12,
   "id": "5cc05942",
   "metadata": {},
   "outputs": [
    {
     "data": {
      "text/plain": [
       "Glucose                      0.651042\n",
       "BloodPressure                4.557292\n",
       "SkinThickness               29.557292\n",
       "Insulin                     48.697917\n",
       "BMI                          1.432292\n",
       "DiabetesPedigreeFunction     0.000000\n",
       "Age                          0.000000\n",
       "dtype: float64"
      ]
     },
     "execution_count": 12,
     "metadata": {},
     "output_type": "execute_result"
    }
   ],
   "source": [
    "df_null.mean() * 100"
   ]
  },
  {
   "cell_type": "code",
   "execution_count": 13,
   "id": "c4528b1d",
   "metadata": {},
   "outputs": [
    {
     "data": {
      "text/plain": [
       "<Axes: >"
      ]
     },
     "execution_count": 13,
     "metadata": {},
     "output_type": "execute_result"
    },
    {
     "data": {
      "image/png": "[encoded data removed]",
      "text/plain": [
       "<Figure size 640x480 with 1 Axes>"
      ]
     },
     "metadata": {},
     "output_type": "display_data"
    }
   ],
   "source": [
    "df_null.sum().plot.barh()"
   ]
  },
  {
   "cell_type": "code",
   "execution_count": 14,
   "id": "34c7e32e",
   "metadata": {},
   "outputs": [
    {
     "data": {
      "text/plain": [
       "<Axes: >"
      ]
     },
     "execution_count": 14,
     "metadata": {},
     "output_type": "execute_result"
    },
    {
     "data": {
      "image/png": "[encoded data removed]",
      "text/plain": [
       "<Figure size 1500x400 with 2 Axes>"
      ]
     },
     "metadata": {},
     "output_type": "display_data"
    }
   ],
   "source": [
    "plt.figure(figsize=(15,4))\n",
    "sns.heatmap(df_null, cmap='Greys_r') "
   ]
  },
  {
   "cell_type": "markdown",
   "id": "1d64a346",
   "metadata": {},
   "source": [
    "# 정답값 (target, label)"
   ]
  },
  {
   "cell_type": "code",
   "execution_count": 15,
   "id": "d51261db",
   "metadata": {},
   "outputs": [
    {
     "data": {
      "text/plain": [
       "0      1\n",
       "1      0\n",
       "2      1\n",
       "3      0\n",
       "4      1\n",
       "      ..\n",
       "763    0\n",
       "764    0\n",
       "765    0\n",
       "766    1\n",
       "767    0\n",
       "Name: Outcome, Length: 768, dtype: int64"
      ]
     },
     "execution_count": 15,
     "metadata": {},
     "output_type": "execute_result"
    }
   ],
   "source": [
    "df['Outcome']"
   ]
  },
  {
   "cell_type": "code",
   "execution_count": 16,
   "id": "c07555d6",
   "metadata": {},
   "outputs": [
    {
     "data": {
      "text/plain": [
       "0    0.651042\n",
       "1    0.348958\n",
       "Name: Outcome, dtype: float64"
      ]
     },
     "execution_count": 16,
     "metadata": {},
     "output_type": "execute_result"
    }
   ],
   "source": [
    "df['Outcome'].value_counts(normalize=True)"
   ]
  },
  {
   "cell_type": "markdown",
   "id": "bfe446b8",
   "metadata": {},
   "source": [
    "## 임신횟수와 정답값을 비교"
   ]
  },
  {
   "cell_type": "code",
   "execution_count": 17,
   "id": "cb7c8456",
   "metadata": {},
   "outputs": [
    {
     "data": {
      "text/html": [
       "<div>\n",
       "<style scoped>\n",
       "    .dataframe tbody tr th:only-of-type {\n",
       "        vertical-align: middle;\n",
       "    }\n",
       "\n",
       "    .dataframe tbody tr th {\n",
       "        vertical-align: top;\n",
       "    }\n",
       "\n",
       "    .dataframe thead th {\n",
       "        text-align: right;\n",
       "    }\n",
       "</style>\n",
       "<table border=\"1\" class=\"dataframe\">\n",
       "  <thead>\n",
       "    <tr style=\"text-align: right;\">\n",
       "      <th></th>\n",
       "      <th>Pregnancies</th>\n",
       "      <th>mean</th>\n",
       "      <th>count</th>\n",
       "    </tr>\n",
       "  </thead>\n",
       "  <tbody>\n",
       "    <tr>\n",
       "      <th>0</th>\n",
       "      <td>0</td>\n",
       "      <td>0.342342</td>\n",
       "      <td>111</td>\n",
       "    </tr>\n",
       "    <tr>\n",
       "      <th>1</th>\n",
       "      <td>1</td>\n",
       "      <td>0.214815</td>\n",
       "      <td>135</td>\n",
       "    </tr>\n",
       "    <tr>\n",
       "      <th>2</th>\n",
       "      <td>2</td>\n",
       "      <td>0.184466</td>\n",
       "      <td>103</td>\n",
       "    </tr>\n",
       "    <tr>\n",
       "      <th>3</th>\n",
       "      <td>3</td>\n",
       "      <td>0.360000</td>\n",
       "      <td>75</td>\n",
       "    </tr>\n",
       "    <tr>\n",
       "      <th>4</th>\n",
       "      <td>4</td>\n",
       "      <td>0.338235</td>\n",
       "      <td>68</td>\n",
       "    </tr>\n",
       "    <tr>\n",
       "      <th>5</th>\n",
       "      <td>5</td>\n",
       "      <td>0.368421</td>\n",
       "      <td>57</td>\n",
       "    </tr>\n",
       "    <tr>\n",
       "      <th>6</th>\n",
       "      <td>6</td>\n",
       "      <td>0.320000</td>\n",
       "      <td>50</td>\n",
       "    </tr>\n",
       "    <tr>\n",
       "      <th>7</th>\n",
       "      <td>7</td>\n",
       "      <td>0.555556</td>\n",
       "      <td>45</td>\n",
       "    </tr>\n",
       "    <tr>\n",
       "      <th>8</th>\n",
       "      <td>8</td>\n",
       "      <td>0.578947</td>\n",
       "      <td>38</td>\n",
       "    </tr>\n",
       "    <tr>\n",
       "      <th>9</th>\n",
       "      <td>9</td>\n",
       "      <td>0.642857</td>\n",
       "      <td>28</td>\n",
       "    </tr>\n",
       "    <tr>\n",
       "      <th>10</th>\n",
       "      <td>10</td>\n",
       "      <td>0.416667</td>\n",
       "      <td>24</td>\n",
       "    </tr>\n",
       "    <tr>\n",
       "      <th>11</th>\n",
       "      <td>11</td>\n",
       "      <td>0.636364</td>\n",
       "      <td>11</td>\n",
       "    </tr>\n",
       "    <tr>\n",
       "      <th>12</th>\n",
       "      <td>12</td>\n",
       "      <td>0.444444</td>\n",
       "      <td>9</td>\n",
       "    </tr>\n",
       "    <tr>\n",
       "      <th>13</th>\n",
       "      <td>13</td>\n",
       "      <td>0.500000</td>\n",
       "      <td>10</td>\n",
       "    </tr>\n",
       "    <tr>\n",
       "      <th>14</th>\n",
       "      <td>14</td>\n",
       "      <td>1.000000</td>\n",
       "      <td>2</td>\n",
       "    </tr>\n",
       "    <tr>\n",
       "      <th>15</th>\n",
       "      <td>15</td>\n",
       "      <td>1.000000</td>\n",
       "      <td>1</td>\n",
       "    </tr>\n",
       "    <tr>\n",
       "      <th>16</th>\n",
       "      <td>17</td>\n",
       "      <td>1.000000</td>\n",
       "      <td>1</td>\n",
       "    </tr>\n",
       "  </tbody>\n",
       "</table>\n",
       "</div>"
      ],
      "text/plain": [
       "    Pregnancies      mean  count\n",
       "0             0  0.342342    111\n",
       "1             1  0.214815    135\n",
       "2             2  0.184466    103\n",
       "3             3  0.360000     75\n",
       "4             4  0.338235     68\n",
       "5             5  0.368421     57\n",
       "6             6  0.320000     50\n",
       "7             7  0.555556     45\n",
       "8             8  0.578947     38\n",
       "9             9  0.642857     28\n",
       "10           10  0.416667     24\n",
       "11           11  0.636364     11\n",
       "12           12  0.444444      9\n",
       "13           13  0.500000     10\n",
       "14           14  1.000000      2\n",
       "15           15  1.000000      1\n",
       "16           17  1.000000      1"
      ]
     },
     "execution_count": 17,
     "metadata": {},
     "output_type": "execute_result"
    }
   ],
   "source": [
    "#인덱스에 올 값을 groupby [] 란에 쓴다\n",
    "#그 뒤에는 value에 올값을 쓴다\n",
    "#aggregation에는 여러개의 연산\n",
    "\n",
    "df_po = df.groupby([\"Pregnancies\"])['Outcome'].agg(['mean', 'count']).reset_index()\n",
    "df_po"
   ]
  },
  {
   "cell_type": "code",
   "execution_count": 18,
   "id": "65d7385b",
   "metadata": {},
   "outputs": [
    {
     "data": {
      "text/plain": [
       "<Axes: >"
      ]
     },
     "execution_count": 18,
     "metadata": {},
     "output_type": "execute_result"
    },
    {
     "data": {
      "image/png": "[encoded data removed]",
      "text/plain": [
       "<Figure size 640x480 with 1 Axes>"
      ]
     },
     "metadata": {},
     "output_type": "display_data"
    }
   ],
   "source": [
    "df_po['mean'].plot()"
   ]
  },
  {
   "cell_type": "code",
   "execution_count": 19,
   "id": "4c1206d4",
   "metadata": {},
   "outputs": [
    {
     "data": {
      "text/plain": [
       "<Axes: >"
      ]
     },
     "execution_count": 19,
     "metadata": {},
     "output_type": "execute_result"
    },
    {
     "data": {
      "image/png": "[encoded data removed]",
      "text/plain": [
       "<Figure size 640x480 with 1 Axes>"
      ]
     },
     "metadata": {},
     "output_type": "display_data"
    }
   ],
   "source": [
    "df_po['mean'].plot.bar(rot=0) #임신 횟수에 따른 발병 비율"
   ]
  },
  {
   "cell_type": "markdown",
   "id": "5f55220a",
   "metadata": {},
   "source": [
    "# countplot: categorical values"
   ]
  },
  {
   "cell_type": "code",
   "execution_count": 20,
   "id": "95bcca6d",
   "metadata": {},
   "outputs": [
    {
     "data": {
      "text/plain": [
       "<Axes: xlabel='Outcome', ylabel='count'>"
      ]
     },
     "execution_count": 20,
     "metadata": {},
     "output_type": "execute_result"
    },
    {
     "data": {
      "image/png": "[encoded data removed]",
      "text/plain": [
       "<Figure size 640x480 with 1 Axes>"
      ]
     },
     "metadata": {},
     "output_type": "display_data"
    }
   ],
   "source": [
    "sns.countplot(data=df, x='Outcome')"
   ]
  },
  {
   "cell_type": "code",
   "execution_count": 21,
   "id": "2d93df1a",
   "metadata": {
    "collapsed": true
   },
   "outputs": [
    {
     "ename": "AttributeError",
     "evalue": "'numpy.int64' object has no attribute 'startswith'",
     "output_type": "error",
     "traceback": [
      "\u001b[1;31m---------------------------------------------------------------------------\u001b[0m",
      "\u001b[1;31mAttributeError\u001b[0m                            Traceback (most recent call last)",
      "Cell \u001b[1;32mIn[21], line 2\u001b[0m\n\u001b[0;32m      1\u001b[0m \u001b[38;5;66;03m#임신횟수에 따른 당뇨병 발병 빈도수를 비교\u001b[39;00m\n\u001b[1;32m----> 2\u001b[0m \u001b[43msns\u001b[49m\u001b[38;5;241;43m.\u001b[39;49m\u001b[43mcountplot\u001b[49m\u001b[43m(\u001b[49m\u001b[43mdata\u001b[49m\u001b[38;5;241;43m=\u001b[39;49m\u001b[43mdf\u001b[49m\u001b[43m,\u001b[49m\u001b[43m \u001b[49m\u001b[43mx\u001b[49m\u001b[38;5;241;43m=\u001b[39;49m\u001b[38;5;124;43m'\u001b[39;49m\u001b[38;5;124;43mPregnancies\u001b[39;49m\u001b[38;5;124;43m'\u001b[39;49m\u001b[43m,\u001b[49m\u001b[43m \u001b[49m\u001b[43mhue\u001b[49m\u001b[43m \u001b[49m\u001b[38;5;241;43m=\u001b[39;49m\u001b[43m \u001b[49m\u001b[38;5;124;43m'\u001b[39;49m\u001b[38;5;124;43mOutcome\u001b[39;49m\u001b[38;5;124;43m'\u001b[39;49m\u001b[43m)\u001b[49m\n",
      "File \u001b[1;32m~\\anaconda3\\lib\\site-packages\\seaborn\\categorical.py:2955\u001b[0m, in \u001b[0;36mcountplot\u001b[1;34m(data, x, y, hue, order, hue_order, orient, color, palette, saturation, width, dodge, ax, **kwargs)\u001b[0m\n\u001b[0;32m   2952\u001b[0m \u001b[38;5;28;01mif\u001b[39;00m ax \u001b[38;5;129;01mis\u001b[39;00m \u001b[38;5;28;01mNone\u001b[39;00m:\n\u001b[0;32m   2953\u001b[0m     ax \u001b[38;5;241m=\u001b[39m plt\u001b[38;5;241m.\u001b[39mgca()\n\u001b[1;32m-> 2955\u001b[0m \u001b[43mplotter\u001b[49m\u001b[38;5;241;43m.\u001b[39;49m\u001b[43mplot\u001b[49m\u001b[43m(\u001b[49m\u001b[43max\u001b[49m\u001b[43m,\u001b[49m\u001b[43m \u001b[49m\u001b[43mkwargs\u001b[49m\u001b[43m)\u001b[49m\n\u001b[0;32m   2956\u001b[0m \u001b[38;5;28;01mreturn\u001b[39;00m ax\n",
      "File \u001b[1;32m~\\anaconda3\\lib\\site-packages\\seaborn\\categorical.py:1587\u001b[0m, in \u001b[0;36m_BarPlotter.plot\u001b[1;34m(self, ax, bar_kws)\u001b[0m\n\u001b[0;32m   1585\u001b[0m \u001b[38;5;250m\u001b[39m\u001b[38;5;124;03m\"\"\"Make the plot.\"\"\"\u001b[39;00m\n\u001b[0;32m   1586\u001b[0m \u001b[38;5;28mself\u001b[39m\u001b[38;5;241m.\u001b[39mdraw_bars(ax, bar_kws)\n\u001b[1;32m-> 1587\u001b[0m \u001b[38;5;28;43mself\u001b[39;49m\u001b[38;5;241;43m.\u001b[39;49m\u001b[43mannotate_axes\u001b[49m\u001b[43m(\u001b[49m\u001b[43max\u001b[49m\u001b[43m)\u001b[49m\n\u001b[0;32m   1588\u001b[0m \u001b[38;5;28;01mif\u001b[39;00m \u001b[38;5;28mself\u001b[39m\u001b[38;5;241m.\u001b[39morient \u001b[38;5;241m==\u001b[39m \u001b[38;5;124m\"\u001b[39m\u001b[38;5;124mh\u001b[39m\u001b[38;5;124m\"\u001b[39m:\n\u001b[0;32m   1589\u001b[0m     ax\u001b[38;5;241m.\u001b[39minvert_yaxis()\n",
      "File \u001b[1;32m~\\anaconda3\\lib\\site-packages\\seaborn\\categorical.py:767\u001b[0m, in \u001b[0;36m_CategoricalPlotter.annotate_axes\u001b[1;34m(self, ax)\u001b[0m\n\u001b[0;32m    764\u001b[0m     ax\u001b[38;5;241m.\u001b[39mset_ylim(\u001b[38;5;241m-\u001b[39m\u001b[38;5;241m.5\u001b[39m, \u001b[38;5;28mlen\u001b[39m(\u001b[38;5;28mself\u001b[39m\u001b[38;5;241m.\u001b[39mplot_data) \u001b[38;5;241m-\u001b[39m \u001b[38;5;241m.5\u001b[39m, auto\u001b[38;5;241m=\u001b[39m\u001b[38;5;28;01mNone\u001b[39;00m)\n\u001b[0;32m    766\u001b[0m \u001b[38;5;28;01mif\u001b[39;00m \u001b[38;5;28mself\u001b[39m\u001b[38;5;241m.\u001b[39mhue_names \u001b[38;5;129;01mis\u001b[39;00m \u001b[38;5;129;01mnot\u001b[39;00m \u001b[38;5;28;01mNone\u001b[39;00m:\n\u001b[1;32m--> 767\u001b[0m     \u001b[43max\u001b[49m\u001b[38;5;241;43m.\u001b[39;49m\u001b[43mlegend\u001b[49m\u001b[43m(\u001b[49m\u001b[43mloc\u001b[49m\u001b[38;5;241;43m=\u001b[39;49m\u001b[38;5;124;43m\"\u001b[39;49m\u001b[38;5;124;43mbest\u001b[39;49m\u001b[38;5;124;43m\"\u001b[39;49m\u001b[43m,\u001b[49m\u001b[43m \u001b[49m\u001b[43mtitle\u001b[49m\u001b[38;5;241;43m=\u001b[39;49m\u001b[38;5;28;43mself\u001b[39;49m\u001b[38;5;241;43m.\u001b[39;49m\u001b[43mhue_title\u001b[49m\u001b[43m)\u001b[49m\n",
      "File \u001b[1;32m~\\anaconda3\\lib\\site-packages\\matplotlib\\axes\\_axes.py:322\u001b[0m, in \u001b[0;36mAxes.legend\u001b[1;34m(self, *args, **kwargs)\u001b[0m\n\u001b[0;32m    204\u001b[0m \u001b[38;5;129m@_docstring\u001b[39m\u001b[38;5;241m.\u001b[39mdedent_interpd\n\u001b[0;32m    205\u001b[0m \u001b[38;5;28;01mdef\u001b[39;00m \u001b[38;5;21mlegend\u001b[39m(\u001b[38;5;28mself\u001b[39m, \u001b[38;5;241m*\u001b[39margs, \u001b[38;5;241m*\u001b[39m\u001b[38;5;241m*\u001b[39mkwargs):\n\u001b[0;32m    206\u001b[0m \u001b[38;5;250m    \u001b[39m\u001b[38;5;124;03m\"\"\"\u001b[39;00m\n\u001b[0;32m    207\u001b[0m \u001b[38;5;124;03m    Place a legend on the Axes.\u001b[39;00m\n\u001b[0;32m    208\u001b[0m \n\u001b[1;32m   (...)\u001b[0m\n\u001b[0;32m    320\u001b[0m \u001b[38;5;124;03m    .. plot:: gallery/text_labels_and_annotations/legend.py\u001b[39;00m\n\u001b[0;32m    321\u001b[0m \u001b[38;5;124;03m    \"\"\"\u001b[39;00m\n\u001b[1;32m--> 322\u001b[0m     handles, labels, kwargs \u001b[38;5;241m=\u001b[39m mlegend\u001b[38;5;241m.\u001b[39m_parse_legend_args([\u001b[38;5;28mself\u001b[39m], \u001b[38;5;241m*\u001b[39margs, \u001b[38;5;241m*\u001b[39m\u001b[38;5;241m*\u001b[39mkwargs)\n\u001b[0;32m    323\u001b[0m     \u001b[38;5;28mself\u001b[39m\u001b[38;5;241m.\u001b[39mlegend_ \u001b[38;5;241m=\u001b[39m mlegend\u001b[38;5;241m.\u001b[39mLegend(\u001b[38;5;28mself\u001b[39m, handles, labels, \u001b[38;5;241m*\u001b[39m\u001b[38;5;241m*\u001b[39mkwargs)\n\u001b[0;32m    324\u001b[0m     \u001b[38;5;28mself\u001b[39m\u001b[38;5;241m.\u001b[39mlegend_\u001b[38;5;241m.\u001b[39m_remove_method \u001b[38;5;241m=\u001b[39m \u001b[38;5;28mself\u001b[39m\u001b[38;5;241m.\u001b[39m_remove_legend\n",
      "File \u001b[1;32m~\\anaconda3\\lib\\site-packages\\matplotlib\\legend.py:1361\u001b[0m, in \u001b[0;36m_parse_legend_args\u001b[1;34m(axs, handles, labels, *args, **kwargs)\u001b[0m\n\u001b[0;32m   1357\u001b[0m     handles \u001b[38;5;241m=\u001b[39m [handle \u001b[38;5;28;01mfor\u001b[39;00m handle, label\n\u001b[0;32m   1358\u001b[0m                \u001b[38;5;129;01min\u001b[39;00m \u001b[38;5;28mzip\u001b[39m(_get_legend_handles(axs, handlers), labels)]\n\u001b[0;32m   1360\u001b[0m \u001b[38;5;28;01melif\u001b[39;00m \u001b[38;5;28mlen\u001b[39m(args) \u001b[38;5;241m==\u001b[39m \u001b[38;5;241m0\u001b[39m:  \u001b[38;5;66;03m# 0 args: automatically detect labels and handles.\u001b[39;00m\n\u001b[1;32m-> 1361\u001b[0m     handles, labels \u001b[38;5;241m=\u001b[39m \u001b[43m_get_legend_handles_labels\u001b[49m\u001b[43m(\u001b[49m\u001b[43maxs\u001b[49m\u001b[43m,\u001b[49m\u001b[43m \u001b[49m\u001b[43mhandlers\u001b[49m\u001b[43m)\u001b[49m\n\u001b[0;32m   1362\u001b[0m     \u001b[38;5;28;01mif\u001b[39;00m \u001b[38;5;129;01mnot\u001b[39;00m handles:\n\u001b[0;32m   1363\u001b[0m         log\u001b[38;5;241m.\u001b[39mwarning(\n\u001b[0;32m   1364\u001b[0m             \u001b[38;5;124m\"\u001b[39m\u001b[38;5;124mNo artists with labels found to put in legend.  Note that \u001b[39m\u001b[38;5;124m\"\u001b[39m\n\u001b[0;32m   1365\u001b[0m             \u001b[38;5;124m\"\u001b[39m\u001b[38;5;124martists whose label start with an underscore are ignored \u001b[39m\u001b[38;5;124m\"\u001b[39m\n\u001b[0;32m   1366\u001b[0m             \u001b[38;5;124m\"\u001b[39m\u001b[38;5;124mwhen legend() is called with no argument.\u001b[39m\u001b[38;5;124m\"\u001b[39m)\n",
      "File \u001b[1;32m~\\anaconda3\\lib\\site-packages\\matplotlib\\legend.py:1291\u001b[0m, in \u001b[0;36m_get_legend_handles_labels\u001b[1;34m(axs, legend_handler_map)\u001b[0m\n\u001b[0;32m   1289\u001b[0m \u001b[38;5;28;01mfor\u001b[39;00m handle \u001b[38;5;129;01min\u001b[39;00m _get_legend_handles(axs, legend_handler_map):\n\u001b[0;32m   1290\u001b[0m     label \u001b[38;5;241m=\u001b[39m handle\u001b[38;5;241m.\u001b[39mget_label()\n\u001b[1;32m-> 1291\u001b[0m     \u001b[38;5;28;01mif\u001b[39;00m label \u001b[38;5;129;01mand\u001b[39;00m \u001b[38;5;129;01mnot\u001b[39;00m \u001b[43mlabel\u001b[49m\u001b[38;5;241;43m.\u001b[39;49m\u001b[43mstartswith\u001b[49m(\u001b[38;5;124m'\u001b[39m\u001b[38;5;124m_\u001b[39m\u001b[38;5;124m'\u001b[39m):\n\u001b[0;32m   1292\u001b[0m         handles\u001b[38;5;241m.\u001b[39mappend(handle)\n\u001b[0;32m   1293\u001b[0m         labels\u001b[38;5;241m.\u001b[39mappend(label)\n",
      "\u001b[1;31mAttributeError\u001b[0m: 'numpy.int64' object has no attribute 'startswith'"
     ]
    },
    {
     "data": {
      "image/png": "[encoded data removed]",
      "text/plain": [
       "<Figure size 640x480 with 1 Axes>"
      ]
     },
     "metadata": {},
     "output_type": "display_data"
    }
   ],
   "source": [
    "#임신횟수에 따른 당뇨병 발병 빈도수를 비교\n",
    "sns.countplot(data=df, x='Pregnancies', hue = 'Outcome')"
   ]
  },
  {
   "cell_type": "code",
   "execution_count": null,
   "id": "cc6c9913",
   "metadata": {},
   "outputs": [],
   "source": [
    "df['Pregnancies_high'] = df['Pregnancies'] > 6 #onehot encoding\n",
    "df[['Pregnancies','Pregnancies_high']].head()"
   ]
  },
  {
   "cell_type": "code",
   "execution_count": null,
   "id": "eac9085f",
   "metadata": {},
   "outputs": [],
   "source": [
    "sns.countplot(data=df, x = 'Pregnancies_high', hue ='Outcome')"
   ]
  },
  {
   "cell_type": "markdown",
   "id": "1e9f0387",
   "metadata": {},
   "source": [
    "# barplot"
   ]
  },
  {
   "cell_type": "code",
   "execution_count": null,
   "id": "2e94a13f",
   "metadata": {},
   "outputs": [],
   "source": [
    "sns.barplot(data=df, x ='Outcome', y='BMI') #당뇨병 발병에 따른 BMI 수치를 비교합니다."
   ]
  },
  {
   "cell_type": "code",
   "execution_count": null,
   "id": "64b8c19b",
   "metadata": {},
   "outputs": [],
   "source": [
    "sns.barplot(data=df, x ='Outcome', y='Glucose') #당뇨병 발병에 따른 포도당 glucose 수치를 비교"
   ]
  },
  {
   "cell_type": "code",
   "execution_count": null,
   "id": "c4b25eda",
   "metadata": {},
   "outputs": [],
   "source": [
    "sns.barplot(data=df, x='Outcome', y = 'Insulin') #Insulin 수치가 0 이상인 관측치에 대해서 당뇨병 발병을 비교\n",
    "#검은색 막대 : bootstrap sampling -> 95% 신뢰구간의 값의 범위 "
   ]
  },
  {
   "cell_type": "code",
   "execution_count": null,
   "id": "11ea105c",
   "metadata": {},
   "outputs": [],
   "source": [
    "sns.barplot(data=df, x='Pregnancies', y='Outcome') #임신횟수에 대해서 당뇨병 발병 비율을 비교"
   ]
  },
  {
   "cell_type": "code",
   "execution_count": null,
   "id": "12183335",
   "metadata": {},
   "outputs": [],
   "source": [
    "sns.barplot(data=df, x='Pregnancies', y='Glucose', hue='Outcome') #임신횟수에 따른 포도당 수치 를 발병여부에 따라 시각화"
   ]
  },
  {
   "cell_type": "code",
   "execution_count": null,
   "id": "58c9a3c1",
   "metadata": {},
   "outputs": [],
   "source": [
    "sns.barplot(data=df, x='Pregnancies', y='BMI', hue='Outcome') #임신횟수에 따른 체질량지수(BMI)  를 발병여부에 따라 시각화"
   ]
  },
  {
   "cell_type": "code",
   "execution_count": null,
   "id": "e71dcd2c",
   "metadata": {},
   "outputs": [],
   "source": [
    "sns.barplot(data=df, x='Pregnancies', y='Insulin', hue='Outcome') #임신횟수에 따른 인슐린 수치 를 발병여부에 따라 시각화\n",
    "#인슐린 수치에는 결측치가 많기 때문에 0보다 큰 값에 대해서만 그립니다. "
   ]
  },
  {
   "cell_type": "code",
   "execution_count": null,
   "id": "2278aa27",
   "metadata": {},
   "outputs": [],
   "source": [
    "sns.barplot(data=df[df['Insulin']>0], x = 'Pregnancies', y='Insulin', hue='Outcome')"
   ]
  },
  {
   "cell_type": "markdown",
   "id": "1e817766",
   "metadata": {},
   "source": [
    "# boxplot"
   ]
  },
  {
   "cell_type": "code",
   "execution_count": null,
   "id": "20a8e267",
   "metadata": {},
   "outputs": [],
   "source": [
    "#임신횟수에 따른 인슐린 수치를 당뇨병 발병여부에 따라 시각화 \n",
    "#인슐린 수치에는 결측치가 많아 -> 0 보다 큰 값에 대해서만 그리기\n",
    "\n",
    "\n",
    "sns.boxplot(data=df[df['Insulin']>0], x='Pregnancies', y='Insulin', hue='Outcome') "
   ]
  },
  {
   "cell_type": "markdown",
   "id": "3524eae3",
   "metadata": {},
   "source": [
    "# violinplot"
   ]
  },
  {
   "cell_type": "code",
   "execution_count": null,
   "id": "b6333c73",
   "metadata": {},
   "outputs": [],
   "source": [
    "plt.figure(figsize=(15,4))\n",
    "sns.violinplot(data=df[df['Insulin']>0], x='Pregnancies', y='Insulin', hue='Outcome',\n",
    "              split=True) #두 파트로 좌우로 데이터를 나눠보기 위해 split옵션을 지정"
   ]
  },
  {
   "cell_type": "markdown",
   "id": "8da72836",
   "metadata": {},
   "source": [
    "# swarmplot"
   ]
  },
  {
   "cell_type": "code",
   "execution_count": null,
   "id": "4df6e2bd",
   "metadata": {},
   "outputs": [],
   "source": [
    "plt.figure(figsize=(15,4))\n",
    "sns.swarmplot(data=df[df['Insulin']>0], x='Pregnancies', y='Insulin', hue='Outcome')"
   ]
  },
  {
   "cell_type": "markdown",
   "id": "37f464eb",
   "metadata": {},
   "source": [
    "# distplot: 연속된 수치형 데이터"
   ]
  },
  {
   "cell_type": "code",
   "execution_count": null,
   "id": "beaa5051",
   "metadata": {},
   "outputs": [],
   "source": [
    "df_0 = df[df['Outcome']==0]\n",
    "df_1 = df[df['Outcome']==1]\n",
    "df_0.shape, df_1.shape"
   ]
  },
  {
   "cell_type": "code",
   "execution_count": null,
   "id": "d2252f12",
   "metadata": {},
   "outputs": [],
   "source": [
    "#임신횟수에 따른 당뇨병 발병 여부를 시각화\n",
    "sns.distplot(df_0['Pregnancies'])\n",
    "sns.distplot(df_1['Pregnancies'])\n",
    "\n",
    "#5라는 임신숫자를 기준으로 5 이후에는 발병 횟수가 더 많다"
   ]
  },
  {
   "cell_type": "code",
   "execution_count": null,
   "id": "afa2fee3",
   "metadata": {},
   "outputs": [],
   "source": [
    "#나이에 따른 당뇨병 발병 여부를 시각화\n",
    "sns.distplot(df_0['Age'], hist=False, rug=True, label=0)\n",
    "sns.distplot(df_1['Age'], hist=False,  rug=True, label=1)"
   ]
  },
  {
   "cell_type": "markdown",
   "id": "da0e4ac6",
   "metadata": {},
   "source": [
    "# Subplots"
   ]
  },
  {
   "cell_type": "markdown",
   "id": "b76dac26",
   "metadata": {},
   "source": [
    "## Pandas를 통한 histplot 그리기\n",
    "- pandas를 사용하면 모든 변수에 대한 서브플롯을 한 번에 그려줍니다."
   ]
  },
  {
   "cell_type": "code",
   "execution_count": null,
   "id": "7c9c455d",
   "metadata": {},
   "outputs": [],
   "source": [
    "#df['Pregnancies_high'] = df['Pregnancies_high'].astype(int)\n",
    "h = df.hist(figsize=(15,15), bins=20)"
   ]
  },
  {
   "cell_type": "markdown",
   "id": "2daaf2d8",
   "metadata": {},
   "source": [
    "## 반복문을 통한 서브플롯 그리기"
   ]
  },
  {
   "cell_type": "markdown",
   "id": "49f1b1b8",
   "metadata": {},
   "source": [
    "### distplot"
   ]
  },
  {
   "cell_type": "code",
   "execution_count": null,
   "id": "8d292073",
   "metadata": {},
   "outputs": [],
   "source": [
    "#컬럼 수 만큼 for문을 만들어서 서브플롯 시각화\n",
    "col_num = df.columns.shape\n",
    "col_num"
   ]
  },
  {
   "cell_type": "code",
   "execution_count": null,
   "id": "081be60b",
   "metadata": {},
   "outputs": [],
   "source": [
    "cols = df.columns[:-1].tolist()\n",
    "cols"
   ]
  },
  {
   "cell_type": "code",
   "execution_count": null,
   "id": "3f58ba24",
   "metadata": {},
   "outputs": [],
   "source": [
    "#distplot으로 서브플롯을 그리기\n",
    "fig, axes = plt.subplots(nrows=3, ncols=3, figsize=(15,15))\n",
    "\n",
    "for i, col_name in enumerate(cols): #enumerate: index값과 value값을 같이 가지고 오게 됨\n",
    "    row = i // 3\n",
    "    col = i % 3\n",
    "    print(i, col_name, row, col)\n",
    "    sns.distplot(df[col_name], ax=axes[row][col])"
   ]
  },
  {
   "cell_type": "code",
   "execution_count": null,
   "id": "4bd5cd58",
   "metadata": {},
   "outputs": [],
   "source": [
    "#모든 변수에 대한 distplot을 그려 봅시다\n",
    "fig, axes = plt.subplots(nrows=4, ncols=2, figsize=(15,15))\n",
    "\n",
    "\n",
    "#Outcome 값을 빼고 그릴 것\n",
    "for i, col_name in enumerate(cols[:-1]): #enumerate: index값과 value값을 같이 가지고 오게 됨\n",
    "    row = i // 2\n",
    "    col = i % 2\n",
    "    sns.distplot(df_0[col_name], ax=axes[row][col])\n",
    "    sns.distplot(df_1[col_name], ax=axes[row][col])"
   ]
  },
  {
   "cell_type": "markdown",
   "id": "5ce77e0a",
   "metadata": {},
   "source": [
    "### violinplot"
   ]
  },
  {
   "cell_type": "code",
   "execution_count": null,
   "id": "857afc0f",
   "metadata": {},
   "outputs": [],
   "source": [
    "# violinplot으로 서브플롯을 그려봅니다.\n",
    "\n",
    "fig, axes = plt.subplots(nrows=4, ncols=2, figsize=(15,15))\n",
    "\n",
    "for i, col_name in enumerate(cols[:-1]): #enumerate: index값과 value값을 같이 가지고 오게 됨\n",
    "    row = i // 2\n",
    "    col = i % 2\n",
    "    sns.violinplot(data = df, \n",
    "                       x='Outcome', \n",
    "                       y=col_name,\n",
    "                       ax=axes[row][col])"
   ]
  },
  {
   "cell_type": "markdown",
   "id": "9d09e266",
   "metadata": {},
   "source": [
    "### lmplot\n",
    "- 상관계수가 높은 두 변수에 대해 시각화"
   ]
  },
  {
   "cell_type": "code",
   "execution_count": null,
   "id": "8a75584b",
   "metadata": {},
   "outputs": [],
   "source": [
    "sns.regplot(data=df,\n",
    "               x='Glucose',\n",
    "               y='Insulin')"
   ]
  },
  {
   "cell_type": "code",
   "execution_count": null,
   "id": "feb04e7b",
   "metadata": {},
   "outputs": [],
   "source": [
    "#regplot에서는 hue색상지정이 안되지만 lmplot은 가능!\n",
    "sns.lmplot(data=df, \n",
    "              x='Glucose',\n",
    "              y='Insulin',\n",
    "              hue='Outcome')"
   ]
  },
  {
   "cell_type": "code",
   "execution_count": null,
   "id": "ab7300b1",
   "metadata": {},
   "outputs": [],
   "source": [
    "#Insulin 수치가 0이상인 데이터로만 그려보기\n",
    "sns.lmplot(data = df[df['Insulin']>0], \n",
    "              x='Glucose',\n",
    "              y='Insulin',\n",
    "              hue='Outcome')"
   ]
  },
  {
   "cell_type": "markdown",
   "id": "9597bfa8",
   "metadata": {},
   "source": [
    "### pairplot"
   ]
  },
  {
   "cell_type": "code",
   "execution_count": null,
   "id": "cfcc673d",
   "metadata": {},
   "outputs": [],
   "source": [
    "#모든 변수에 대해 Outcome에 따른 scatterplot\n",
    "\n",
    "#sns.pairplot(df)\n",
    "g = sns.PairGrid(data=df, hue='Outcome')\n",
    "g.map(plt.scatter)"
   ]
  },
  {
   "cell_type": "markdown",
   "id": "7bee6cac",
   "metadata": {},
   "source": [
    "# 상관분석"
   ]
  },
  {
   "cell_type": "code",
   "execution_count": 6,
   "id": "a47cb8cf",
   "metadata": {},
   "outputs": [
    {
     "data": {
      "text/html": [
       "<div>\n",
       "<style scoped>\n",
       "    .dataframe tbody tr th:only-of-type {\n",
       "        vertical-align: middle;\n",
       "    }\n",
       "\n",
       "    .dataframe tbody tr th {\n",
       "        vertical-align: top;\n",
       "    }\n",
       "\n",
       "    .dataframe thead th {\n",
       "        text-align: right;\n",
       "    }\n",
       "</style>\n",
       "<table border=\"1\" class=\"dataframe\">\n",
       "  <thead>\n",
       "    <tr style=\"text-align: right;\">\n",
       "      <th></th>\n",
       "      <th>Pregnancies</th>\n",
       "      <th>Glucose</th>\n",
       "      <th>BloodPressure</th>\n",
       "      <th>SkinThickness</th>\n",
       "      <th>Insulin</th>\n",
       "      <th>BMI</th>\n",
       "      <th>DiabetesPedigreeFunction</th>\n",
       "      <th>Outcome</th>\n",
       "    </tr>\n",
       "  </thead>\n",
       "  <tbody>\n",
       "    <tr>\n",
       "      <th>0</th>\n",
       "      <td>6.0</td>\n",
       "      <td>148.0</td>\n",
       "      <td>72.0</td>\n",
       "      <td>35.0</td>\n",
       "      <td>NaN</td>\n",
       "      <td>33.6</td>\n",
       "      <td>0.627</td>\n",
       "      <td>1</td>\n",
       "    </tr>\n",
       "    <tr>\n",
       "      <th>1</th>\n",
       "      <td>1.0</td>\n",
       "      <td>85.0</td>\n",
       "      <td>66.0</td>\n",
       "      <td>29.0</td>\n",
       "      <td>NaN</td>\n",
       "      <td>26.6</td>\n",
       "      <td>0.351</td>\n",
       "      <td>0</td>\n",
       "    </tr>\n",
       "    <tr>\n",
       "      <th>2</th>\n",
       "      <td>8.0</td>\n",
       "      <td>183.0</td>\n",
       "      <td>64.0</td>\n",
       "      <td>NaN</td>\n",
       "      <td>NaN</td>\n",
       "      <td>23.3</td>\n",
       "      <td>0.672</td>\n",
       "      <td>1</td>\n",
       "    </tr>\n",
       "    <tr>\n",
       "      <th>3</th>\n",
       "      <td>1.0</td>\n",
       "      <td>89.0</td>\n",
       "      <td>66.0</td>\n",
       "      <td>23.0</td>\n",
       "      <td>94.0</td>\n",
       "      <td>28.1</td>\n",
       "      <td>0.167</td>\n",
       "      <td>0</td>\n",
       "    </tr>\n",
       "    <tr>\n",
       "      <th>4</th>\n",
       "      <td>NaN</td>\n",
       "      <td>137.0</td>\n",
       "      <td>40.0</td>\n",
       "      <td>35.0</td>\n",
       "      <td>168.0</td>\n",
       "      <td>43.1</td>\n",
       "      <td>2.288</td>\n",
       "      <td>1</td>\n",
       "    </tr>\n",
       "  </tbody>\n",
       "</table>\n",
       "</div>"
      ],
      "text/plain": [
       "   Pregnancies  Glucose  BloodPressure  SkinThickness  Insulin   BMI  \\\n",
       "0          6.0    148.0           72.0           35.0      NaN  33.6   \n",
       "1          1.0     85.0           66.0           29.0      NaN  26.6   \n",
       "2          8.0    183.0           64.0            NaN      NaN  23.3   \n",
       "3          1.0     89.0           66.0           23.0     94.0  28.1   \n",
       "4          NaN    137.0           40.0           35.0    168.0  43.1   \n",
       "\n",
       "   DiabetesPedigreeFunction  Outcome  \n",
       "0                     0.627        1  \n",
       "1                     0.351        0  \n",
       "2                     0.672        1  \n",
       "3                     0.167        0  \n",
       "4                     2.288        1  "
      ]
     },
     "execution_count": 6,
     "metadata": {},
     "output_type": "execute_result"
    }
   ],
   "source": [
    "df_matrix = df.iloc[ : , :-2].replace(0, np.nan)\n",
    "df_matrix['Outcome'] = df['Outcome']\n",
    "df_matrix.head()"
   ]
  },
  {
   "cell_type": "code",
   "execution_count": 7,
   "id": "a9e5e071",
   "metadata": {
    "scrolled": true
   },
   "outputs": [
    {
     "data": {
      "text/html": [
       "<style type=\"text/css\">\n",
       "#T_b90ba_row0_col0, #T_b90ba_row1_col1, #T_b90ba_row2_col2, #T_b90ba_row3_col3, #T_b90ba_row4_col4, #T_b90ba_row5_col5, #T_b90ba_row6_col6, #T_b90ba_row7_col7 {\n",
       "  background-color: #023858;\n",
       "  color: #f1f1f1;\n",
       "}\n",
       "#T_b90ba_row0_col1 {\n",
       "  background-color: #faf3f9;\n",
       "  color: #000000;\n",
       "}\n",
       "#T_b90ba_row0_col2 {\n",
       "  background-color: #c4cbe3;\n",
       "  color: #000000;\n",
       "}\n",
       "#T_b90ba_row0_col3 {\n",
       "  background-color: #f6eff7;\n",
       "  color: #000000;\n",
       "}\n",
       "#T_b90ba_row0_col4, #T_b90ba_row6_col7 {\n",
       "  background-color: #fef6fb;\n",
       "  color: #000000;\n",
       "}\n",
       "#T_b90ba_row0_col5, #T_b90ba_row0_col6, #T_b90ba_row2_col4, #T_b90ba_row2_col6, #T_b90ba_row2_col7, #T_b90ba_row6_col0, #T_b90ba_row6_col1, #T_b90ba_row6_col2, #T_b90ba_row6_col3 {\n",
       "  background-color: #fff7fb;\n",
       "  color: #000000;\n",
       "}\n",
       "#T_b90ba_row0_col7, #T_b90ba_row1_col5, #T_b90ba_row3_col6 {\n",
       "  background-color: #ede8f3;\n",
       "  color: #000000;\n",
       "}\n",
       "#T_b90ba_row1_col0 {\n",
       "  background-color: #e2dfee;\n",
       "  color: #000000;\n",
       "}\n",
       "#T_b90ba_row1_col2 {\n",
       "  background-color: #d6d6e9;\n",
       "  color: #000000;\n",
       "}\n",
       "#T_b90ba_row1_col3, #T_b90ba_row2_col3 {\n",
       "  background-color: #ece7f2;\n",
       "  color: #000000;\n",
       "}\n",
       "#T_b90ba_row1_col4 {\n",
       "  background-color: #62a2cb;\n",
       "  color: #f1f1f1;\n",
       "}\n",
       "#T_b90ba_row1_col6, #T_b90ba_row5_col4 {\n",
       "  background-color: #e8e4f0;\n",
       "  color: #000000;\n",
       "}\n",
       "#T_b90ba_row1_col7 {\n",
       "  background-color: #9fbad9;\n",
       "  color: #000000;\n",
       "}\n",
       "#T_b90ba_row2_col0, #T_b90ba_row5_col2 {\n",
       "  background-color: #c2cbe2;\n",
       "  color: #000000;\n",
       "}\n",
       "#T_b90ba_row2_col1, #T_b90ba_row3_col1, #T_b90ba_row4_col2 {\n",
       "  background-color: #f0eaf4;\n",
       "  color: #000000;\n",
       "}\n",
       "#T_b90ba_row2_col5 {\n",
       "  background-color: #dfddec;\n",
       "  color: #000000;\n",
       "}\n",
       "#T_b90ba_row3_col0, #T_b90ba_row5_col7, #T_b90ba_row7_col2 {\n",
       "  background-color: #e1dfed;\n",
       "  color: #000000;\n",
       "}\n",
       "#T_b90ba_row3_col2, #T_b90ba_row7_col4 {\n",
       "  background-color: #d5d5e8;\n",
       "  color: #000000;\n",
       "}\n",
       "#T_b90ba_row3_col4 {\n",
       "  background-color: #f1ebf4;\n",
       "  color: #000000;\n",
       "}\n",
       "#T_b90ba_row3_col5 {\n",
       "  background-color: #4496c3;\n",
       "  color: #f1f1f1;\n",
       "}\n",
       "#T_b90ba_row3_col7 {\n",
       "  background-color: #efe9f3;\n",
       "  color: #000000;\n",
       "}\n",
       "#T_b90ba_row4_col0, #T_b90ba_row5_col1 {\n",
       "  background-color: #eee9f3;\n",
       "  color: #000000;\n",
       "}\n",
       "#T_b90ba_row4_col1 {\n",
       "  background-color: #6da6cd;\n",
       "  color: #f1f1f1;\n",
       "}\n",
       "#T_b90ba_row4_col3 {\n",
       "  background-color: #f3edf5;\n",
       "  color: #000000;\n",
       "}\n",
       "#T_b90ba_row4_col5 {\n",
       "  background-color: #eee8f3;\n",
       "  color: #000000;\n",
       "}\n",
       "#T_b90ba_row4_col6, #T_b90ba_row5_col0 {\n",
       "  background-color: #eae6f1;\n",
       "  color: #000000;\n",
       "}\n",
       "#T_b90ba_row4_col7, #T_b90ba_row5_col6, #T_b90ba_row7_col3 {\n",
       "  background-color: #e4e1ef;\n",
       "  color: #000000;\n",
       "}\n",
       "#T_b90ba_row5_col3 {\n",
       "  background-color: #4094c3;\n",
       "  color: #f1f1f1;\n",
       "}\n",
       "#T_b90ba_row6_col4 {\n",
       "  background-color: #faf2f8;\n",
       "  color: #000000;\n",
       "}\n",
       "#T_b90ba_row6_col5 {\n",
       "  background-color: #fbf3f9;\n",
       "  color: #000000;\n",
       "}\n",
       "#T_b90ba_row7_col0 {\n",
       "  background-color: #c9cee4;\n",
       "  color: #000000;\n",
       "}\n",
       "#T_b90ba_row7_col1 {\n",
       "  background-color: #96b6d7;\n",
       "  color: #000000;\n",
       "}\n",
       "#T_b90ba_row7_col5 {\n",
       "  background-color: #d9d8ea;\n",
       "  color: #000000;\n",
       "}\n",
       "#T_b90ba_row7_col6 {\n",
       "  background-color: #e0deed;\n",
       "  color: #000000;\n",
       "}\n",
       "</style>\n",
       "<table id=\"T_b90ba\">\n",
       "  <thead>\n",
       "    <tr>\n",
       "      <th class=\"blank level0\" >&nbsp;</th>\n",
       "      <th id=\"T_b90ba_level0_col0\" class=\"col_heading level0 col0\" >Pregnancies</th>\n",
       "      <th id=\"T_b90ba_level0_col1\" class=\"col_heading level0 col1\" >Glucose</th>\n",
       "      <th id=\"T_b90ba_level0_col2\" class=\"col_heading level0 col2\" >BloodPressure</th>\n",
       "      <th id=\"T_b90ba_level0_col3\" class=\"col_heading level0 col3\" >SkinThickness</th>\n",
       "      <th id=\"T_b90ba_level0_col4\" class=\"col_heading level0 col4\" >Insulin</th>\n",
       "      <th id=\"T_b90ba_level0_col5\" class=\"col_heading level0 col5\" >BMI</th>\n",
       "      <th id=\"T_b90ba_level0_col6\" class=\"col_heading level0 col6\" >DiabetesPedigreeFunction</th>\n",
       "      <th id=\"T_b90ba_level0_col7\" class=\"col_heading level0 col7\" >Outcome</th>\n",
       "    </tr>\n",
       "  </thead>\n",
       "  <tbody>\n",
       "    <tr>\n",
       "      <th id=\"T_b90ba_level0_row0\" class=\"row_heading level0 row0\" >Pregnancies</th>\n",
       "      <td id=\"T_b90ba_row0_col0\" class=\"data row0 col0\" >1.000000</td>\n",
       "      <td id=\"T_b90ba_row0_col1\" class=\"data row0 col1\" >0.166329</td>\n",
       "      <td id=\"T_b90ba_row0_col2\" class=\"data row0 col2\" >0.285013</td>\n",
       "      <td id=\"T_b90ba_row0_col3\" class=\"data row0 col3\" >0.167298</td>\n",
       "      <td id=\"T_b90ba_row0_col4\" class=\"data row0 col4\" >0.104081</td>\n",
       "      <td id=\"T_b90ba_row0_col5\" class=\"data row0 col5\" >0.128207</td>\n",
       "      <td id=\"T_b90ba_row0_col6\" class=\"data row0 col6\" >-0.006459</td>\n",
       "      <td id=\"T_b90ba_row0_col7\" class=\"data row0 col7\" >0.268218</td>\n",
       "    </tr>\n",
       "    <tr>\n",
       "      <th id=\"T_b90ba_level0_row1\" class=\"row_heading level0 row1\" >Glucose</th>\n",
       "      <td id=\"T_b90ba_row1_col0\" class=\"data row1 col0\" >0.166329</td>\n",
       "      <td id=\"T_b90ba_row1_col1\" class=\"data row1 col1\" >1.000000</td>\n",
       "      <td id=\"T_b90ba_row1_col2\" class=\"data row1 col2\" >0.223192</td>\n",
       "      <td id=\"T_b90ba_row1_col3\" class=\"data row1 col3\" >0.228043</td>\n",
       "      <td id=\"T_b90ba_row1_col4\" class=\"data row1 col4\" >0.581186</td>\n",
       "      <td id=\"T_b90ba_row1_col5\" class=\"data row1 col5\" >0.232771</td>\n",
       "      <td id=\"T_b90ba_row1_col6\" class=\"data row1 col6\" >0.137246</td>\n",
       "      <td id=\"T_b90ba_row1_col7\" class=\"data row1 col7\" >0.494650</td>\n",
       "    </tr>\n",
       "    <tr>\n",
       "      <th id=\"T_b90ba_level0_row2\" class=\"row_heading level0 row2\" >BloodPressure</th>\n",
       "      <td id=\"T_b90ba_row2_col0\" class=\"data row2 col0\" >0.285013</td>\n",
       "      <td id=\"T_b90ba_row2_col1\" class=\"data row2 col1\" >0.223192</td>\n",
       "      <td id=\"T_b90ba_row2_col2\" class=\"data row2 col2\" >1.000000</td>\n",
       "      <td id=\"T_b90ba_row2_col3\" class=\"data row2 col3\" >0.226839</td>\n",
       "      <td id=\"T_b90ba_row2_col4\" class=\"data row2 col4\" >0.098272</td>\n",
       "      <td id=\"T_b90ba_row2_col5\" class=\"data row2 col5\" >0.289230</td>\n",
       "      <td id=\"T_b90ba_row2_col6\" class=\"data row2 col6\" >-0.002805</td>\n",
       "      <td id=\"T_b90ba_row2_col7\" class=\"data row2 col7\" >0.170589</td>\n",
       "    </tr>\n",
       "    <tr>\n",
       "      <th id=\"T_b90ba_level0_row3\" class=\"row_heading level0 row3\" >SkinThickness</th>\n",
       "      <td id=\"T_b90ba_row3_col0\" class=\"data row3 col0\" >0.167298</td>\n",
       "      <td id=\"T_b90ba_row3_col1\" class=\"data row3 col1\" >0.228043</td>\n",
       "      <td id=\"T_b90ba_row3_col2\" class=\"data row3 col2\" >0.226839</td>\n",
       "      <td id=\"T_b90ba_row3_col3\" class=\"data row3 col3\" >1.000000</td>\n",
       "      <td id=\"T_b90ba_row3_col4\" class=\"data row3 col4\" >0.184888</td>\n",
       "      <td id=\"T_b90ba_row3_col5\" class=\"data row3 col5\" >0.648214</td>\n",
       "      <td id=\"T_b90ba_row3_col6\" class=\"data row3 col6\" >0.115016</td>\n",
       "      <td id=\"T_b90ba_row3_col7\" class=\"data row3 col7\" >0.259491</td>\n",
       "    </tr>\n",
       "    <tr>\n",
       "      <th id=\"T_b90ba_level0_row4\" class=\"row_heading level0 row4\" >Insulin</th>\n",
       "      <td id=\"T_b90ba_row4_col0\" class=\"data row4 col0\" >0.104081</td>\n",
       "      <td id=\"T_b90ba_row4_col1\" class=\"data row4 col1\" >0.581186</td>\n",
       "      <td id=\"T_b90ba_row4_col2\" class=\"data row4 col2\" >0.098272</td>\n",
       "      <td id=\"T_b90ba_row4_col3\" class=\"data row4 col3\" >0.184888</td>\n",
       "      <td id=\"T_b90ba_row4_col4\" class=\"data row4 col4\" >1.000000</td>\n",
       "      <td id=\"T_b90ba_row4_col5\" class=\"data row4 col5\" >0.228050</td>\n",
       "      <td id=\"T_b90ba_row4_col6\" class=\"data row4 col6\" >0.130395</td>\n",
       "      <td id=\"T_b90ba_row4_col7\" class=\"data row4 col7\" >0.303454</td>\n",
       "    </tr>\n",
       "    <tr>\n",
       "      <th id=\"T_b90ba_level0_row5\" class=\"row_heading level0 row5\" >BMI</th>\n",
       "      <td id=\"T_b90ba_row5_col0\" class=\"data row5 col0\" >0.128207</td>\n",
       "      <td id=\"T_b90ba_row5_col1\" class=\"data row5 col1\" >0.232771</td>\n",
       "      <td id=\"T_b90ba_row5_col2\" class=\"data row5 col2\" >0.289230</td>\n",
       "      <td id=\"T_b90ba_row5_col3\" class=\"data row5 col3\" >0.648214</td>\n",
       "      <td id=\"T_b90ba_row5_col4\" class=\"data row5 col4\" >0.228050</td>\n",
       "      <td id=\"T_b90ba_row5_col5\" class=\"data row5 col5\" >1.000000</td>\n",
       "      <td id=\"T_b90ba_row5_col6\" class=\"data row5 col6\" >0.155382</td>\n",
       "      <td id=\"T_b90ba_row5_col7\" class=\"data row5 col7\" >0.313680</td>\n",
       "    </tr>\n",
       "    <tr>\n",
       "      <th id=\"T_b90ba_level0_row6\" class=\"row_heading level0 row6\" >DiabetesPedigreeFunction</th>\n",
       "      <td id=\"T_b90ba_row6_col0\" class=\"data row6 col0\" >-0.006459</td>\n",
       "      <td id=\"T_b90ba_row6_col1\" class=\"data row6 col1\" >0.137246</td>\n",
       "      <td id=\"T_b90ba_row6_col2\" class=\"data row6 col2\" >-0.002805</td>\n",
       "      <td id=\"T_b90ba_row6_col3\" class=\"data row6 col3\" >0.115016</td>\n",
       "      <td id=\"T_b90ba_row6_col4\" class=\"data row6 col4\" >0.130395</td>\n",
       "      <td id=\"T_b90ba_row6_col5\" class=\"data row6 col5\" >0.155382</td>\n",
       "      <td id=\"T_b90ba_row6_col6\" class=\"data row6 col6\" >1.000000</td>\n",
       "      <td id=\"T_b90ba_row6_col7\" class=\"data row6 col7\" >0.173844</td>\n",
       "    </tr>\n",
       "    <tr>\n",
       "      <th id=\"T_b90ba_level0_row7\" class=\"row_heading level0 row7\" >Outcome</th>\n",
       "      <td id=\"T_b90ba_row7_col0\" class=\"data row7 col0\" >0.268218</td>\n",
       "      <td id=\"T_b90ba_row7_col1\" class=\"data row7 col1\" >0.494650</td>\n",
       "      <td id=\"T_b90ba_row7_col2\" class=\"data row7 col2\" >0.170589</td>\n",
       "      <td id=\"T_b90ba_row7_col3\" class=\"data row7 col3\" >0.259491</td>\n",
       "      <td id=\"T_b90ba_row7_col4\" class=\"data row7 col4\" >0.303454</td>\n",
       "      <td id=\"T_b90ba_row7_col5\" class=\"data row7 col5\" >0.313680</td>\n",
       "      <td id=\"T_b90ba_row7_col6\" class=\"data row7 col6\" >0.173844</td>\n",
       "      <td id=\"T_b90ba_row7_col7\" class=\"data row7 col7\" >1.000000</td>\n",
       "    </tr>\n",
       "  </tbody>\n",
       "</table>\n"
      ],
      "text/plain": [
       "<pandas.io.formats.style.Styler at 0x27686eb4e80>"
      ]
     },
     "execution_count": 7,
     "metadata": {},
     "output_type": "execute_result"
    }
   ],
   "source": [
    "df_corr = df_matrix.corr()\n",
    "df_corr.style.background_gradient()"
   ]
  },
  {
   "cell_type": "code",
   "execution_count": 18,
   "id": "2d7d6468",
   "metadata": {},
   "outputs": [
    {
     "name": "stdout",
     "output_type": "stream",
     "text": [
      "0.12.2\n"
     ]
    }
   ],
   "source": [
    "print(sns.__version__)"
   ]
  },
  {
   "cell_type": "code",
   "execution_count": 19,
   "id": "3896695d",
   "metadata": {},
   "outputs": [
    {
     "data": {
      "text/plain": [
       "<Axes: >"
      ]
     },
     "execution_count": 19,
     "metadata": {},
     "output_type": "execute_result"
    },
    {
     "data": {
      "image/png": "[encoded data removed]",
      "text/plain": [
       "<Figure size 640x480 with 2 Axes>"
      ]
     },
     "metadata": {},
     "output_type": "display_data"
    }
   ],
   "source": [
    "sns.heatmap(df_corr, annot=True, vmax=1, vmin = -1, cmap=\"coolwarm\")"
   ]
  },
  {
   "cell_type": "code",
   "execution_count": 10,
   "id": "f9d42aa0",
   "metadata": {},
   "outputs": [
    {
     "data": {
      "text/plain": [
       "Pregnancies                 0.268218\n",
       "Glucose                     0.494650\n",
       "BloodPressure               0.170589\n",
       "SkinThickness               0.259491\n",
       "Insulin                     0.303454\n",
       "BMI                         0.313680\n",
       "DiabetesPedigreeFunction    0.173844\n",
       "Outcome                     1.000000\n",
       "Name: Outcome, dtype: float64"
      ]
     },
     "execution_count": 10,
     "metadata": {},
     "output_type": "execute_result"
    }
   ],
   "source": [
    "df_corr['Outcome']"
   ]
  },
  {
   "cell_type": "markdown",
   "id": "54fbf8e6",
   "metadata": {},
   "source": [
    "## 상관계수가 높은 변수끼리 보기"
   ]
  },
  {
   "cell_type": "code",
   "execution_count": 14,
   "id": "c436e4e6",
   "metadata": {},
   "outputs": [
    {
     "data": {
      "text/plain": [
       "<seaborn.axisgrid.FacetGrid at 0x2768bf70e50>"
      ]
     },
     "execution_count": 14,
     "metadata": {},
     "output_type": "execute_result"
    },
    {
     "data": {
      "image/png": "[encoded data removed]",
      "text/plain": [
       "<Figure size 574.361x500 with 1 Axes>"
      ]
     },
     "metadata": {},
     "output_type": "display_data"
    }
   ],
   "source": [
    "sns.lmplot(data=df_matrix,\n",
    "              x= 'Insulin',\n",
    "              y='Glucose', hue='Outcome')"
   ]
  },
  {
   "cell_type": "code",
   "execution_count": 11,
   "id": "0b528c1f",
   "metadata": {
    "collapsed": true
   },
   "outputs": [
    {
     "data": {
      "text/plain": [
       "<Axes: xlabel='Insulin', ylabel='Glucose'>"
      ]
     },
     "execution_count": 11,
     "metadata": {},
     "output_type": "execute_result"
    },
    {
     "data": {
      "image/png": "[encoded data removed]",
      "text/plain": [
       "<Figure size 640x480 with 1 Axes>"
      ]
     },
     "metadata": {},
     "output_type": "display_data"
    }
   ],
   "source": [
    "sns.regplot(data=df_matrix,\n",
    "               x ='Insulin',\n",
    "               y='Glucose')"
   ]
  },
  {
   "cell_type": "code",
   "execution_count": null,
   "id": "23c12b38",
   "metadata": {},
   "outputs": [],
   "source": [
    "sns.regplot(data=df_matrix,\n",
    "               x='Age',\n",
    "               y='Pregnancies')"
   ]
  },
  {
   "cell_type": "code",
   "execution_count": null,
   "id": "8ee71f25",
   "metadata": {},
   "outputs": [],
   "source": [
    "sns.lmplot(data=df,\n",
    "                x='Age',\n",
    "                y='Pregnancies',\n",
    "              hue='Outcome', col='Outcome')"
   ]
  },
  {
   "cell_type": "code",
   "execution_count": null,
   "id": "e9df78f1",
   "metadata": {},
   "outputs": [],
   "source": []
  }
 ],
 "metadata": {
  "kernelspec": {
   "display_name": "Python 3 (ipykernel)",
   "language": "python",
   "name": "python3"
  },
  "language_info": {
   "codemirror_mode": {
    "name": "ipython",
    "version": 3
   },
   "file_extension": ".py",
   "mimetype": "text/x-python",
   "name": "python",
   "nbconvert_exporter": "python",
   "pygments_lexer": "ipython3",
   "version": "3.9.18"
  },
  "toc": {
   "base_numbering": 1,
   "nav_menu": {},
   "number_sections": true,
   "sideBar": true,
   "skip_h1_title": false,
   "title_cell": "Table of Contents",
   "title_sidebar": "Contents",
   "toc_cell": false,
   "toc_position": {
    "height": "calc(100% - 180px)",
    "left": "10px",
    "top": "150px",
    "width": "291.333px"
   },
   "toc_section_display": true,
   "toc_window_display": true
  }
 },
 "nbformat": 4,
 "nbformat_minor": 5
}
