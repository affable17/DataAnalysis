{
 "cells": [
  {
   "cell_type": "code",
   "execution_count": 1,
   "id": "aadff5aa",
   "metadata": {},
   "outputs": [],
   "source": [
    "import pandas as pd\n",
    "import numpy as np\n",
    "import seaborn as sns\n",
    "import matplotlib.pyplot as plt"
   ]
  },
  {
   "cell_type": "code",
   "execution_count": 2,
   "id": "b9d9208e",
   "metadata": {},
   "outputs": [
    {
     "data": {
      "text/plain": [
       "(768, 16)"
      ]
     },
     "execution_count": 2,
     "metadata": {},
     "output_type": "execute_result"
    }
   ],
   "source": [
    "df = pd.read_csv('data/diabetes_feature.csv')\n",
    "df.shape"
   ]
  },
  {
   "cell_type": "code",
   "execution_count": 3,
   "id": "d21d65e9",
   "metadata": {},
   "outputs": [],
   "source": [
    "X = df[['Glucose', 'BloodPressure', 'SkinThickness',\n",
    "       'BMI', 'DiabetesPedigreeFunction', 'Age', 'Pregnancies_high',\n",
    "       'Insulin_nan', 'low_glu_insulin']]\n",
    "y = df['Outcome']"
   ]
  },
  {
   "cell_type": "code",
   "execution_count": 4,
   "id": "56b0e24f",
   "metadata": {},
   "outputs": [],
   "source": [
    "from sklearn.model_selection import train_test_split\n",
    "\n",
    "X_train, X_test, y_train, y_test = train_test_split(\n",
    "    X, y, test_size=0.2, random_state=42)"
   ]
  },
  {
   "cell_type": "code",
   "execution_count": 5,
   "id": "f8b47e91",
   "metadata": {},
   "outputs": [
    {
     "name": "stdout",
     "output_type": "stream",
     "text": [
      "(614, 9) (614,)\n",
      "(154, 9) (154,)\n"
     ]
    }
   ],
   "source": [
    "print(X_train.shape, y_train.shape)\n",
    "print(X_test.shape, y_test.shape)"
   ]
  },
  {
   "cell_type": "markdown",
   "id": "bf7e7726",
   "metadata": {},
   "source": [
    "# 머신러닝 알고리즘 사용하기\n",
    "* [결정 트리 - 위키백과, 우리 모두의 백과사전](https://ko.wikipedia.org/wiki/%EA%B2%B0%EC%A0%95_%ED%8A%B8%EB%A6%AC)\n",
    "* [결정 트리 학습법 - 위키백과, 우리 모두의 백과사전](https://ko.wikipedia.org/wiki/%EA%B2%B0%EC%A0%95_%ED%8A%B8%EB%A6%AC_%ED%95%99%EC%8A%B5%EB%B2%95)\n",
    "* [랜덤 포레스트 - 위키백과, 우리 모두의 백과사전](https://ko.wikipedia.org/wiki/%EB%9E%9C%EB%8D%A4_%ED%8F%AC%EB%A0%88%EC%8A%A4%ED%8A%B8)\n",
    "* [배깅 - 위키백과, 우리 모두의 백과사전](https://ko.wikipedia.org/wiki/%EB%B0%B0%EA%B9%85)\n"
   ]
  },
  {
   "cell_type": "markdown",
   "id": "57e00e66",
   "metadata": {},
   "source": [
    "## Single tree\n",
    "지니 계수가 0이면 더 이상의 불순물이 섞이지 않은 것, 트리를 그릴수록 작아져"
   ]
  },
  {
   "cell_type": "code",
   "execution_count": 6,
   "id": "a8a0d400",
   "metadata": {},
   "outputs": [
    {
     "data": {
      "text/html": [
       "<style>#sk-container-id-1 {color: black;}#sk-container-id-1 pre{padding: 0;}#sk-container-id-1 div.sk-toggleable {background-color: white;}#sk-container-id-1 label.sk-toggleable__label {cursor: pointer;display: block;width: 100%;margin-bottom: 0;padding: 0.3em;box-sizing: border-box;text-align: center;}#sk-container-id-1 label.sk-toggleable__label-arrow:before {content: \"▸\";float: left;margin-right: 0.25em;color: #696969;}#sk-container-id-1 label.sk-toggleable__label-arrow:hover:before {color: black;}#sk-container-id-1 div.sk-estimator:hover label.sk-toggleable__label-arrow:before {color: black;}#sk-container-id-1 div.sk-toggleable__content {max-height: 0;max-width: 0;overflow: hidden;text-align: left;background-color: #f0f8ff;}#sk-container-id-1 div.sk-toggleable__content pre {margin: 0.2em;color: black;border-radius: 0.25em;background-color: #f0f8ff;}#sk-container-id-1 input.sk-toggleable__control:checked~div.sk-toggleable__content {max-height: 200px;max-width: 100%;overflow: auto;}#sk-container-id-1 input.sk-toggleable__control:checked~label.sk-toggleable__label-arrow:before {content: \"▾\";}#sk-container-id-1 div.sk-estimator input.sk-toggleable__control:checked~label.sk-toggleable__label {background-color: #d4ebff;}#sk-container-id-1 div.sk-label input.sk-toggleable__control:checked~label.sk-toggleable__label {background-color: #d4ebff;}#sk-container-id-1 input.sk-hidden--visually {border: 0;clip: rect(1px 1px 1px 1px);clip: rect(1px, 1px, 1px, 1px);height: 1px;margin: -1px;overflow: hidden;padding: 0;position: absolute;width: 1px;}#sk-container-id-1 div.sk-estimator {font-family: monospace;background-color: #f0f8ff;border: 1px dotted black;border-radius: 0.25em;box-sizing: border-box;margin-bottom: 0.5em;}#sk-container-id-1 div.sk-estimator:hover {background-color: #d4ebff;}#sk-container-id-1 div.sk-parallel-item::after {content: \"\";width: 100%;border-bottom: 1px solid gray;flex-grow: 1;}#sk-container-id-1 div.sk-label:hover label.sk-toggleable__label {background-color: #d4ebff;}#sk-container-id-1 div.sk-serial::before {content: \"\";position: absolute;border-left: 1px solid gray;box-sizing: border-box;top: 0;bottom: 0;left: 50%;z-index: 0;}#sk-container-id-1 div.sk-serial {display: flex;flex-direction: column;align-items: center;background-color: white;padding-right: 0.2em;padding-left: 0.2em;position: relative;}#sk-container-id-1 div.sk-item {position: relative;z-index: 1;}#sk-container-id-1 div.sk-parallel {display: flex;align-items: stretch;justify-content: center;background-color: white;position: relative;}#sk-container-id-1 div.sk-item::before, #sk-container-id-1 div.sk-parallel-item::before {content: \"\";position: absolute;border-left: 1px solid gray;box-sizing: border-box;top: 0;bottom: 0;left: 50%;z-index: -1;}#sk-container-id-1 div.sk-parallel-item {display: flex;flex-direction: column;z-index: 1;position: relative;background-color: white;}#sk-container-id-1 div.sk-parallel-item:first-child::after {align-self: flex-end;width: 50%;}#sk-container-id-1 div.sk-parallel-item:last-child::after {align-self: flex-start;width: 50%;}#sk-container-id-1 div.sk-parallel-item:only-child::after {width: 0;}#sk-container-id-1 div.sk-dashed-wrapped {border: 1px dashed gray;margin: 0 0.4em 0.5em 0.4em;box-sizing: border-box;padding-bottom: 0.4em;background-color: white;}#sk-container-id-1 div.sk-label label {font-family: monospace;font-weight: bold;display: inline-block;line-height: 1.2em;}#sk-container-id-1 div.sk-label-container {text-align: center;}#sk-container-id-1 div.sk-container {/* jupyter's `normalize.less` sets `[hidden] { display: none; }` but bootstrap.min.css set `[hidden] { display: none !important; }` so we also need the `!important` here to be able to override the default hidden behavior on the sphinx rendered scikit-learn.org. See: https://github.com/scikit-learn/scikit-learn/issues/21755 */display: inline-block !important;position: relative;}#sk-container-id-1 div.sk-text-repr-fallback {display: none;}</style><div id=\"sk-container-id-1\" class=\"sk-top-container\"><div class=\"sk-text-repr-fallback\"><pre>DecisionTreeClassifier(random_state=42)</pre><b>In a Jupyter environment, please rerun this cell to show the HTML representation or trust the notebook. <br />On GitHub, the HTML representation is unable to render, please try loading this page with nbviewer.org.</b></div><div class=\"sk-container\" hidden><div class=\"sk-item\"><div class=\"sk-estimator sk-toggleable\"><input class=\"sk-toggleable__control sk-hidden--visually\" id=\"sk-estimator-id-1\" type=\"checkbox\" checked><label for=\"sk-estimator-id-1\" class=\"sk-toggleable__label sk-toggleable__label-arrow\">DecisionTreeClassifier</label><div class=\"sk-toggleable__content\"><pre>DecisionTreeClassifier(random_state=42)</pre></div></div></div></div></div>"
      ],
      "text/plain": [
       "DecisionTreeClassifier(random_state=42)"
      ]
     },
     "execution_count": 6,
     "metadata": {},
     "output_type": "execute_result"
    }
   ],
   "source": [
    "from sklearn.tree import DecisionTreeClassifier\n",
    "\n",
    "# model = DecisionTreeClassifier(random_state=42)\n",
    "# model"
   ]
  },
  {
   "cell_type": "markdown",
   "id": "4fc36cda",
   "metadata": {},
   "source": [
    "## Bagging = Bootstrap aggregating"
   ]
  },
  {
   "cell_type": "code",
   "execution_count": 13,
   "id": "a2d718a7",
   "metadata": {},
   "outputs": [
    {
     "data": {
      "text/html": [
       "<style>#sk-container-id-4 {color: black;}#sk-container-id-4 pre{padding: 0;}#sk-container-id-4 div.sk-toggleable {background-color: white;}#sk-container-id-4 label.sk-toggleable__label {cursor: pointer;display: block;width: 100%;margin-bottom: 0;padding: 0.3em;box-sizing: border-box;text-align: center;}#sk-container-id-4 label.sk-toggleable__label-arrow:before {content: \"▸\";float: left;margin-right: 0.25em;color: #696969;}#sk-container-id-4 label.sk-toggleable__label-arrow:hover:before {color: black;}#sk-container-id-4 div.sk-estimator:hover label.sk-toggleable__label-arrow:before {color: black;}#sk-container-id-4 div.sk-toggleable__content {max-height: 0;max-width: 0;overflow: hidden;text-align: left;background-color: #f0f8ff;}#sk-container-id-4 div.sk-toggleable__content pre {margin: 0.2em;color: black;border-radius: 0.25em;background-color: #f0f8ff;}#sk-container-id-4 input.sk-toggleable__control:checked~div.sk-toggleable__content {max-height: 200px;max-width: 100%;overflow: auto;}#sk-container-id-4 input.sk-toggleable__control:checked~label.sk-toggleable__label-arrow:before {content: \"▾\";}#sk-container-id-4 div.sk-estimator input.sk-toggleable__control:checked~label.sk-toggleable__label {background-color: #d4ebff;}#sk-container-id-4 div.sk-label input.sk-toggleable__control:checked~label.sk-toggleable__label {background-color: #d4ebff;}#sk-container-id-4 input.sk-hidden--visually {border: 0;clip: rect(1px 1px 1px 1px);clip: rect(1px, 1px, 1px, 1px);height: 1px;margin: -1px;overflow: hidden;padding: 0;position: absolute;width: 1px;}#sk-container-id-4 div.sk-estimator {font-family: monospace;background-color: #f0f8ff;border: 1px dotted black;border-radius: 0.25em;box-sizing: border-box;margin-bottom: 0.5em;}#sk-container-id-4 div.sk-estimator:hover {background-color: #d4ebff;}#sk-container-id-4 div.sk-parallel-item::after {content: \"\";width: 100%;border-bottom: 1px solid gray;flex-grow: 1;}#sk-container-id-4 div.sk-label:hover label.sk-toggleable__label {background-color: #d4ebff;}#sk-container-id-4 div.sk-serial::before {content: \"\";position: absolute;border-left: 1px solid gray;box-sizing: border-box;top: 0;bottom: 0;left: 50%;z-index: 0;}#sk-container-id-4 div.sk-serial {display: flex;flex-direction: column;align-items: center;background-color: white;padding-right: 0.2em;padding-left: 0.2em;position: relative;}#sk-container-id-4 div.sk-item {position: relative;z-index: 1;}#sk-container-id-4 div.sk-parallel {display: flex;align-items: stretch;justify-content: center;background-color: white;position: relative;}#sk-container-id-4 div.sk-item::before, #sk-container-id-4 div.sk-parallel-item::before {content: \"\";position: absolute;border-left: 1px solid gray;box-sizing: border-box;top: 0;bottom: 0;left: 50%;z-index: -1;}#sk-container-id-4 div.sk-parallel-item {display: flex;flex-direction: column;z-index: 1;position: relative;background-color: white;}#sk-container-id-4 div.sk-parallel-item:first-child::after {align-self: flex-end;width: 50%;}#sk-container-id-4 div.sk-parallel-item:last-child::after {align-self: flex-start;width: 50%;}#sk-container-id-4 div.sk-parallel-item:only-child::after {width: 0;}#sk-container-id-4 div.sk-dashed-wrapped {border: 1px dashed gray;margin: 0 0.4em 0.5em 0.4em;box-sizing: border-box;padding-bottom: 0.4em;background-color: white;}#sk-container-id-4 div.sk-label label {font-family: monospace;font-weight: bold;display: inline-block;line-height: 1.2em;}#sk-container-id-4 div.sk-label-container {text-align: center;}#sk-container-id-4 div.sk-container {/* jupyter's `normalize.less` sets `[hidden] { display: none; }` but bootstrap.min.css set `[hidden] { display: none !important; }` so we also need the `!important` here to be able to override the default hidden behavior on the sphinx rendered scikit-learn.org. See: https://github.com/scikit-learn/scikit-learn/issues/21755 */display: inline-block !important;position: relative;}#sk-container-id-4 div.sk-text-repr-fallback {display: none;}</style><div id=\"sk-container-id-4\" class=\"sk-top-container\"><div class=\"sk-text-repr-fallback\"><pre>RandomForestClassifier(random_state=42)</pre><b>In a Jupyter environment, please rerun this cell to show the HTML representation or trust the notebook. <br />On GitHub, the HTML representation is unable to render, please try loading this page with nbviewer.org.</b></div><div class=\"sk-container\" hidden><div class=\"sk-item\"><div class=\"sk-estimator sk-toggleable\"><input class=\"sk-toggleable__control sk-hidden--visually\" id=\"sk-estimator-id-4\" type=\"checkbox\" checked><label for=\"sk-estimator-id-4\" class=\"sk-toggleable__label sk-toggleable__label-arrow\">RandomForestClassifier</label><div class=\"sk-toggleable__content\"><pre>RandomForestClassifier(random_state=42)</pre></div></div></div></div></div>"
      ],
      "text/plain": [
       "RandomForestClassifier(random_state=42)"
      ]
     },
     "execution_count": 13,
     "metadata": {},
     "output_type": "execute_result"
    }
   ],
   "source": [
    "from sklearn.ensemble import RandomForestClassifier\n",
    "\n",
    "# model = RandomForestClassifier(n_estimators =100, random_state=42)\n",
    "# model"
   ]
  },
  {
   "cell_type": "markdown",
   "id": "36fcf4e9",
   "metadata": {},
   "source": [
    "## Boosting\n",
    " * https://quantdare.com/what-is-the-difference-between-bagging-and-boosting/\n",
    " \n",
    " <img src=\"https://quantdare.com/wp-content/uploads/2016/04/bb3.png\" width=\"600\">"
   ]
  },
  {
   "cell_type": "code",
   "execution_count": 30,
   "id": "ca49391d",
   "metadata": {},
   "outputs": [
    {
     "data": {
      "text/html": [
       "<style>#sk-container-id-7 {color: black;}#sk-container-id-7 pre{padding: 0;}#sk-container-id-7 div.sk-toggleable {background-color: white;}#sk-container-id-7 label.sk-toggleable__label {cursor: pointer;display: block;width: 100%;margin-bottom: 0;padding: 0.3em;box-sizing: border-box;text-align: center;}#sk-container-id-7 label.sk-toggleable__label-arrow:before {content: \"▸\";float: left;margin-right: 0.25em;color: #696969;}#sk-container-id-7 label.sk-toggleable__label-arrow:hover:before {color: black;}#sk-container-id-7 div.sk-estimator:hover label.sk-toggleable__label-arrow:before {color: black;}#sk-container-id-7 div.sk-toggleable__content {max-height: 0;max-width: 0;overflow: hidden;text-align: left;background-color: #f0f8ff;}#sk-container-id-7 div.sk-toggleable__content pre {margin: 0.2em;color: black;border-radius: 0.25em;background-color: #f0f8ff;}#sk-container-id-7 input.sk-toggleable__control:checked~div.sk-toggleable__content {max-height: 200px;max-width: 100%;overflow: auto;}#sk-container-id-7 input.sk-toggleable__control:checked~label.sk-toggleable__label-arrow:before {content: \"▾\";}#sk-container-id-7 div.sk-estimator input.sk-toggleable__control:checked~label.sk-toggleable__label {background-color: #d4ebff;}#sk-container-id-7 div.sk-label input.sk-toggleable__control:checked~label.sk-toggleable__label {background-color: #d4ebff;}#sk-container-id-7 input.sk-hidden--visually {border: 0;clip: rect(1px 1px 1px 1px);clip: rect(1px, 1px, 1px, 1px);height: 1px;margin: -1px;overflow: hidden;padding: 0;position: absolute;width: 1px;}#sk-container-id-7 div.sk-estimator {font-family: monospace;background-color: #f0f8ff;border: 1px dotted black;border-radius: 0.25em;box-sizing: border-box;margin-bottom: 0.5em;}#sk-container-id-7 div.sk-estimator:hover {background-color: #d4ebff;}#sk-container-id-7 div.sk-parallel-item::after {content: \"\";width: 100%;border-bottom: 1px solid gray;flex-grow: 1;}#sk-container-id-7 div.sk-label:hover label.sk-toggleable__label {background-color: #d4ebff;}#sk-container-id-7 div.sk-serial::before {content: \"\";position: absolute;border-left: 1px solid gray;box-sizing: border-box;top: 0;bottom: 0;left: 50%;z-index: 0;}#sk-container-id-7 div.sk-serial {display: flex;flex-direction: column;align-items: center;background-color: white;padding-right: 0.2em;padding-left: 0.2em;position: relative;}#sk-container-id-7 div.sk-item {position: relative;z-index: 1;}#sk-container-id-7 div.sk-parallel {display: flex;align-items: stretch;justify-content: center;background-color: white;position: relative;}#sk-container-id-7 div.sk-item::before, #sk-container-id-7 div.sk-parallel-item::before {content: \"\";position: absolute;border-left: 1px solid gray;box-sizing: border-box;top: 0;bottom: 0;left: 50%;z-index: -1;}#sk-container-id-7 div.sk-parallel-item {display: flex;flex-direction: column;z-index: 1;position: relative;background-color: white;}#sk-container-id-7 div.sk-parallel-item:first-child::after {align-self: flex-end;width: 50%;}#sk-container-id-7 div.sk-parallel-item:last-child::after {align-self: flex-start;width: 50%;}#sk-container-id-7 div.sk-parallel-item:only-child::after {width: 0;}#sk-container-id-7 div.sk-dashed-wrapped {border: 1px dashed gray;margin: 0 0.4em 0.5em 0.4em;box-sizing: border-box;padding-bottom: 0.4em;background-color: white;}#sk-container-id-7 div.sk-label label {font-family: monospace;font-weight: bold;display: inline-block;line-height: 1.2em;}#sk-container-id-7 div.sk-label-container {text-align: center;}#sk-container-id-7 div.sk-container {/* jupyter's `normalize.less` sets `[hidden] { display: none; }` but bootstrap.min.css set `[hidden] { display: none !important; }` so we also need the `!important` here to be able to override the default hidden behavior on the sphinx rendered scikit-learn.org. See: https://github.com/scikit-learn/scikit-learn/issues/21755 */display: inline-block !important;position: relative;}#sk-container-id-7 div.sk-text-repr-fallback {display: none;}</style><div id=\"sk-container-id-7\" class=\"sk-top-container\"><div class=\"sk-text-repr-fallback\"><pre>GradientBoostingClassifier(random_state=42)</pre><b>In a Jupyter environment, please rerun this cell to show the HTML representation or trust the notebook. <br />On GitHub, the HTML representation is unable to render, please try loading this page with nbviewer.org.</b></div><div class=\"sk-container\" hidden><div class=\"sk-item\"><div class=\"sk-estimator sk-toggleable\"><input class=\"sk-toggleable__control sk-hidden--visually\" id=\"sk-estimator-id-7\" type=\"checkbox\" checked><label for=\"sk-estimator-id-7\" class=\"sk-toggleable__label sk-toggleable__label-arrow\">GradientBoostingClassifier</label><div class=\"sk-toggleable__content\"><pre>GradientBoostingClassifier(random_state=42)</pre></div></div></div></div></div>"
      ],
      "text/plain": [
       "GradientBoostingClassifier(random_state=42)"
      ]
     },
     "execution_count": 30,
     "metadata": {},
     "output_type": "execute_result"
    }
   ],
   "source": [
    "from sklearn.ensemble import GradientBoostingClassifier\n",
    "\n",
    "model = GradientBoostingClassifier(\n",
    "                                        #max_depth=10, \n",
    "                                   random_state=42)\n",
    "model"
   ]
  },
  {
   "cell_type": "markdown",
   "id": "836d2970",
   "metadata": {},
   "source": [
    "# 여러 개의 알고리즘을 사용해서 비교하기\n",
    "RamdomSearchCV 로 여러 알고리즘의 최적의 하이퍼 파라미터를 찾기"
   ]
  },
  {
   "cell_type": "code",
   "execution_count": 48,
   "id": "62631be2",
   "metadata": {},
   "outputs": [
    {
     "data": {
      "text/plain": [
       "[DecisionTreeClassifier(random_state=42),\n",
       " RandomForestClassifier(random_state=42),\n",
       " GradientBoostingClassifier(random_state=42)]"
      ]
     },
     "execution_count": 48,
     "metadata": {},
     "output_type": "execute_result"
    }
   ],
   "source": [
    "from sklearn.tree import DecisionTreeClassifier\n",
    "from sklearn.ensemble import RandomForestClassifier, GradientBoostingClassifier\n",
    "\n",
    "\n",
    "\n",
    "estimators = [DecisionTreeClassifier(random_state=42),\n",
    "                RandomForestClassifier(random_state=42),\n",
    "                GradientBoostingClassifier(random_state=42)\n",
    "                ]\n",
    "estimators"
   ]
  },
  {
   "cell_type": "code",
   "execution_count": 54,
   "id": "0b611bf5",
   "metadata": {},
   "outputs": [
    {
     "data": {
      "text/plain": [
       "[['DecisionTreeClassifier'],\n",
       " ['RandomForestClassifier'],\n",
       " ['GradientBoostingClassifier']]"
      ]
     },
     "execution_count": 54,
     "metadata": {},
     "output_type": "execute_result"
    }
   ],
   "source": [
    "# results = []\n",
    "# for estimator in estimators:\n",
    "#     result =[]\n",
    "#     result.append(estimator.__class__.__name__) #이름만 출력\n",
    "#     results.append(result)\n",
    "# results"
   ]
  },
  {
   "cell_type": "code",
   "execution_count": 40,
   "id": "11ab6d70",
   "metadata": {},
   "outputs": [
    {
     "data": {
      "text/plain": [
       "(array([ 5, 11, 16, 15,  4, 14,  3,  6, 18, 12]),\n",
       " array([0.85549813, 0.30789299, 0.94358669, 0.86988068, 0.73798133,\n",
       "        0.73576166, 0.39842648, 0.94951822, 0.30651791, 0.74332419]))"
      ]
     },
     "execution_count": 40,
     "metadata": {},
     "output_type": "execute_result"
    }
   ],
   "source": [
    "# max_depth = np.random.randint(2,20, 10)\n",
    "# max_features = np.random.uniform(0.3, 1.0, 10)\n",
    "\n",
    "# max_depth, max_features"
   ]
  },
  {
   "cell_type": "code",
   "execution_count": 63,
   "id": "4224357e",
   "metadata": {},
   "outputs": [
    {
     "name": "stdout",
     "output_type": "stream",
     "text": [
      "Fitting 5 folds for each of 100 candidates, totalling 500 fits\n",
      "Fitting 5 folds for each of 100 candidates, totalling 500 fits\n",
      "Fitting 5 folds for each of 100 candidates, totalling 500 fits\n"
     ]
    }
   ],
   "source": [
    "from sklearn.model_selection import RandomizedSearchCV\n",
    "\n",
    "max_depth = np.random.randint(2,20, 10)\n",
    "max_features = np.random.uniform(0.3, 1.0, 10)\n",
    "\n",
    "param_distributions ={\"max_depth\" : max_depth, \n",
    "                      \"max_features\" : max_features}\n",
    "\n",
    "results =[]\n",
    "for estimator in estimators:\n",
    "    result = []\n",
    "    \n",
    "    if estimator.__class__.__name__ != 'DecisionTreeClassifier':\n",
    "        param_distributions['n_estimators'] = np.random.randint(100, 200, 10)\n",
    "    \n",
    "    \n",
    "    \n",
    "    clf = RandomizedSearchCV(estimator,\n",
    "                                  param_distributions, \n",
    "                                   n_iter=100,\n",
    "                                   scoring =\"accuracy\",\n",
    "                                   n_jobs=-1, \n",
    "                                   cv = 5,\n",
    "                                   verbose = 2\n",
    "                                    )\n",
    "    clf.fit(X_train, y_train)\n",
    "    \n",
    "    result.append(estimator.__class__.__name__)\n",
    "    result.append(clf.best_params_)\n",
    "    result.append(clf.best_score_)\n",
    "    result.append(clf.score(X_test, y_test))\n",
    "    result.append(clf.cv_results_)\n",
    "    \n",
    "    results.append(result)"
   ]
  },
  {
   "cell_type": "code",
   "execution_count": 65,
   "id": "ca7433e4",
   "metadata": {},
   "outputs": [],
   "source": [
    "df = pd.DataFrame(results, \n",
    "             columns =['estimtor', 'best_params', 'train_score', 'test_score', 'cv_result'])"
   ]
  },
  {
   "cell_type": "code",
   "execution_count": 70,
   "id": "3fc6ef4f",
   "metadata": {},
   "outputs": [
    {
     "data": {
      "text/html": [
       "<div>\n",
       "<style scoped>\n",
       "    .dataframe tbody tr th:only-of-type {\n",
       "        vertical-align: middle;\n",
       "    }\n",
       "\n",
       "    .dataframe tbody tr th {\n",
       "        vertical-align: top;\n",
       "    }\n",
       "\n",
       "    .dataframe thead th {\n",
       "        text-align: right;\n",
       "    }\n",
       "</style>\n",
       "<table border=\"1\" class=\"dataframe\">\n",
       "  <thead>\n",
       "    <tr style=\"text-align: right;\">\n",
       "      <th></th>\n",
       "      <th>mean_fit_time</th>\n",
       "      <th>std_fit_time</th>\n",
       "      <th>mean_score_time</th>\n",
       "      <th>std_score_time</th>\n",
       "      <th>param_n_estimators</th>\n",
       "      <th>param_max_features</th>\n",
       "      <th>param_max_depth</th>\n",
       "      <th>params</th>\n",
       "      <th>split0_test_score</th>\n",
       "      <th>split1_test_score</th>\n",
       "      <th>split2_test_score</th>\n",
       "      <th>split3_test_score</th>\n",
       "      <th>split4_test_score</th>\n",
       "      <th>mean_test_score</th>\n",
       "      <th>std_test_score</th>\n",
       "      <th>rank_test_score</th>\n",
       "    </tr>\n",
       "  </thead>\n",
       "  <tbody>\n",
       "    <tr>\n",
       "      <th>97</th>\n",
       "      <td>1.102166</td>\n",
       "      <td>0.027702</td>\n",
       "      <td>0.042775</td>\n",
       "      <td>0.002259</td>\n",
       "      <td>173</td>\n",
       "      <td>0.630497</td>\n",
       "      <td>14</td>\n",
       "      <td>{'n_estimators': 173, 'max_features': 0.630497...</td>\n",
       "      <td>0.878049</td>\n",
       "      <td>0.934959</td>\n",
       "      <td>0.853659</td>\n",
       "      <td>0.902439</td>\n",
       "      <td>0.950820</td>\n",
       "      <td>0.903985</td>\n",
       "      <td>0.035667</td>\n",
       "      <td>1</td>\n",
       "    </tr>\n",
       "    <tr>\n",
       "      <th>35</th>\n",
       "      <td>1.274883</td>\n",
       "      <td>0.033267</td>\n",
       "      <td>0.048567</td>\n",
       "      <td>0.003520</td>\n",
       "      <td>173</td>\n",
       "      <td>0.688855</td>\n",
       "      <td>13</td>\n",
       "      <td>{'n_estimators': 173, 'max_features': 0.688854...</td>\n",
       "      <td>0.861789</td>\n",
       "      <td>0.934959</td>\n",
       "      <td>0.869919</td>\n",
       "      <td>0.910569</td>\n",
       "      <td>0.942623</td>\n",
       "      <td>0.903972</td>\n",
       "      <td>0.032975</td>\n",
       "      <td>2</td>\n",
       "    </tr>\n",
       "    <tr>\n",
       "      <th>17</th>\n",
       "      <td>1.466921</td>\n",
       "      <td>0.065621</td>\n",
       "      <td>0.053236</td>\n",
       "      <td>0.005024</td>\n",
       "      <td>199</td>\n",
       "      <td>0.688855</td>\n",
       "      <td>13</td>\n",
       "      <td>{'n_estimators': 199, 'max_features': 0.688854...</td>\n",
       "      <td>0.869919</td>\n",
       "      <td>0.934959</td>\n",
       "      <td>0.861789</td>\n",
       "      <td>0.910569</td>\n",
       "      <td>0.942623</td>\n",
       "      <td>0.903972</td>\n",
       "      <td>0.032975</td>\n",
       "      <td>3</td>\n",
       "    </tr>\n",
       "    <tr>\n",
       "      <th>89</th>\n",
       "      <td>1.291385</td>\n",
       "      <td>0.012078</td>\n",
       "      <td>0.056588</td>\n",
       "      <td>0.006311</td>\n",
       "      <td>199</td>\n",
       "      <td>0.630497</td>\n",
       "      <td>14</td>\n",
       "      <td>{'n_estimators': 199, 'max_features': 0.630497...</td>\n",
       "      <td>0.878049</td>\n",
       "      <td>0.934959</td>\n",
       "      <td>0.861789</td>\n",
       "      <td>0.902439</td>\n",
       "      <td>0.942623</td>\n",
       "      <td>0.903972</td>\n",
       "      <td>0.031330</td>\n",
       "      <td>3</td>\n",
       "    </tr>\n",
       "    <tr>\n",
       "      <th>16</th>\n",
       "      <td>0.907617</td>\n",
       "      <td>0.011471</td>\n",
       "      <td>0.041744</td>\n",
       "      <td>0.002832</td>\n",
       "      <td>149</td>\n",
       "      <td>0.51738</td>\n",
       "      <td>9</td>\n",
       "      <td>{'n_estimators': 149, 'max_features': 0.517379...</td>\n",
       "      <td>0.869919</td>\n",
       "      <td>0.943089</td>\n",
       "      <td>0.869919</td>\n",
       "      <td>0.910569</td>\n",
       "      <td>0.926230</td>\n",
       "      <td>0.903945</td>\n",
       "      <td>0.029625</td>\n",
       "      <td>5</td>\n",
       "    </tr>\n",
       "    <tr>\n",
       "      <th>...</th>\n",
       "      <td>...</td>\n",
       "      <td>...</td>\n",
       "      <td>...</td>\n",
       "      <td>...</td>\n",
       "      <td>...</td>\n",
       "      <td>...</td>\n",
       "      <td>...</td>\n",
       "      <td>...</td>\n",
       "      <td>...</td>\n",
       "      <td>...</td>\n",
       "      <td>...</td>\n",
       "      <td>...</td>\n",
       "      <td>...</td>\n",
       "      <td>...</td>\n",
       "      <td>...</td>\n",
       "      <td>...</td>\n",
       "    </tr>\n",
       "    <tr>\n",
       "      <th>14</th>\n",
       "      <td>1.010047</td>\n",
       "      <td>0.021582</td>\n",
       "      <td>0.050302</td>\n",
       "      <td>0.001765</td>\n",
       "      <td>186</td>\n",
       "      <td>0.51738</td>\n",
       "      <td>5</td>\n",
       "      <td>{'n_estimators': 186, 'max_features': 0.517379...</td>\n",
       "      <td>0.861789</td>\n",
       "      <td>0.918699</td>\n",
       "      <td>0.853659</td>\n",
       "      <td>0.886179</td>\n",
       "      <td>0.934426</td>\n",
       "      <td>0.890950</td>\n",
       "      <td>0.031382</td>\n",
       "      <td>93</td>\n",
       "    </tr>\n",
       "    <tr>\n",
       "      <th>40</th>\n",
       "      <td>1.132138</td>\n",
       "      <td>0.011775</td>\n",
       "      <td>0.054124</td>\n",
       "      <td>0.002370</td>\n",
       "      <td>186</td>\n",
       "      <td>0.537196</td>\n",
       "      <td>14</td>\n",
       "      <td>{'n_estimators': 186, 'max_features': 0.537195...</td>\n",
       "      <td>0.853659</td>\n",
       "      <td>0.934959</td>\n",
       "      <td>0.853659</td>\n",
       "      <td>0.894309</td>\n",
       "      <td>0.918033</td>\n",
       "      <td>0.890924</td>\n",
       "      <td>0.033054</td>\n",
       "      <td>97</td>\n",
       "    </tr>\n",
       "    <tr>\n",
       "      <th>51</th>\n",
       "      <td>1.616116</td>\n",
       "      <td>0.168940</td>\n",
       "      <td>0.079457</td>\n",
       "      <td>0.012706</td>\n",
       "      <td>186</td>\n",
       "      <td>0.538857</td>\n",
       "      <td>16</td>\n",
       "      <td>{'n_estimators': 186, 'max_features': 0.538857...</td>\n",
       "      <td>0.853659</td>\n",
       "      <td>0.934959</td>\n",
       "      <td>0.853659</td>\n",
       "      <td>0.894309</td>\n",
       "      <td>0.918033</td>\n",
       "      <td>0.890924</td>\n",
       "      <td>0.033054</td>\n",
       "      <td>97</td>\n",
       "    </tr>\n",
       "    <tr>\n",
       "      <th>55</th>\n",
       "      <td>1.489617</td>\n",
       "      <td>0.138261</td>\n",
       "      <td>0.074695</td>\n",
       "      <td>0.012111</td>\n",
       "      <td>186</td>\n",
       "      <td>0.51738</td>\n",
       "      <td>11</td>\n",
       "      <td>{'n_estimators': 186, 'max_features': 0.517379...</td>\n",
       "      <td>0.853659</td>\n",
       "      <td>0.934959</td>\n",
       "      <td>0.845528</td>\n",
       "      <td>0.894309</td>\n",
       "      <td>0.918033</td>\n",
       "      <td>0.889298</td>\n",
       "      <td>0.034991</td>\n",
       "      <td>99</td>\n",
       "    </tr>\n",
       "    <tr>\n",
       "      <th>25</th>\n",
       "      <td>0.757920</td>\n",
       "      <td>0.036033</td>\n",
       "      <td>0.049250</td>\n",
       "      <td>0.010032</td>\n",
       "      <td>149</td>\n",
       "      <td>0.407571</td>\n",
       "      <td>5</td>\n",
       "      <td>{'n_estimators': 149, 'max_features': 0.407571...</td>\n",
       "      <td>0.853659</td>\n",
       "      <td>0.926829</td>\n",
       "      <td>0.861789</td>\n",
       "      <td>0.886179</td>\n",
       "      <td>0.918033</td>\n",
       "      <td>0.889298</td>\n",
       "      <td>0.029227</td>\n",
       "      <td>99</td>\n",
       "    </tr>\n",
       "  </tbody>\n",
       "</table>\n",
       "<p>100 rows × 16 columns</p>\n",
       "</div>"
      ],
      "text/plain": [
       "    mean_fit_time  std_fit_time  mean_score_time  std_score_time  \\\n",
       "97       1.102166      0.027702         0.042775        0.002259   \n",
       "35       1.274883      0.033267         0.048567        0.003520   \n",
       "17       1.466921      0.065621         0.053236        0.005024   \n",
       "89       1.291385      0.012078         0.056588        0.006311   \n",
       "16       0.907617      0.011471         0.041744        0.002832   \n",
       "..            ...           ...              ...             ...   \n",
       "14       1.010047      0.021582         0.050302        0.001765   \n",
       "40       1.132138      0.011775         0.054124        0.002370   \n",
       "51       1.616116      0.168940         0.079457        0.012706   \n",
       "55       1.489617      0.138261         0.074695        0.012111   \n",
       "25       0.757920      0.036033         0.049250        0.010032   \n",
       "\n",
       "   param_n_estimators param_max_features param_max_depth  \\\n",
       "97                173           0.630497              14   \n",
       "35                173           0.688855              13   \n",
       "17                199           0.688855              13   \n",
       "89                199           0.630497              14   \n",
       "16                149            0.51738               9   \n",
       "..                ...                ...             ...   \n",
       "14                186            0.51738               5   \n",
       "40                186           0.537196              14   \n",
       "51                186           0.538857              16   \n",
       "55                186            0.51738              11   \n",
       "25                149           0.407571               5   \n",
       "\n",
       "                                               params  split0_test_score  \\\n",
       "97  {'n_estimators': 173, 'max_features': 0.630497...           0.878049   \n",
       "35  {'n_estimators': 173, 'max_features': 0.688854...           0.861789   \n",
       "17  {'n_estimators': 199, 'max_features': 0.688854...           0.869919   \n",
       "89  {'n_estimators': 199, 'max_features': 0.630497...           0.878049   \n",
       "16  {'n_estimators': 149, 'max_features': 0.517379...           0.869919   \n",
       "..                                                ...                ...   \n",
       "14  {'n_estimators': 186, 'max_features': 0.517379...           0.861789   \n",
       "40  {'n_estimators': 186, 'max_features': 0.537195...           0.853659   \n",
       "51  {'n_estimators': 186, 'max_features': 0.538857...           0.853659   \n",
       "55  {'n_estimators': 186, 'max_features': 0.517379...           0.853659   \n",
       "25  {'n_estimators': 149, 'max_features': 0.407571...           0.853659   \n",
       "\n",
       "    split1_test_score  split2_test_score  split3_test_score  \\\n",
       "97           0.934959           0.853659           0.902439   \n",
       "35           0.934959           0.869919           0.910569   \n",
       "17           0.934959           0.861789           0.910569   \n",
       "89           0.934959           0.861789           0.902439   \n",
       "16           0.943089           0.869919           0.910569   \n",
       "..                ...                ...                ...   \n",
       "14           0.918699           0.853659           0.886179   \n",
       "40           0.934959           0.853659           0.894309   \n",
       "51           0.934959           0.853659           0.894309   \n",
       "55           0.934959           0.845528           0.894309   \n",
       "25           0.926829           0.861789           0.886179   \n",
       "\n",
       "    split4_test_score  mean_test_score  std_test_score  rank_test_score  \n",
       "97           0.950820         0.903985        0.035667                1  \n",
       "35           0.942623         0.903972        0.032975                2  \n",
       "17           0.942623         0.903972        0.032975                3  \n",
       "89           0.942623         0.903972        0.031330                3  \n",
       "16           0.926230         0.903945        0.029625                5  \n",
       "..                ...              ...             ...              ...  \n",
       "14           0.934426         0.890950        0.031382               93  \n",
       "40           0.918033         0.890924        0.033054               97  \n",
       "51           0.918033         0.890924        0.033054               97  \n",
       "55           0.918033         0.889298        0.034991               99  \n",
       "25           0.918033         0.889298        0.029227               99  \n",
       "\n",
       "[100 rows x 16 columns]"
      ]
     },
     "execution_count": 70,
     "metadata": {},
     "output_type": "execute_result"
    }
   ],
   "source": [
    "pd.DataFrame(df.loc[1, \"cv_result\"]).sort_values(by='rank_test_score')"
   ]
  },
  {
   "cell_type": "code",
   "execution_count": null,
   "id": "dc59117d",
   "metadata": {},
   "outputs": [],
   "source": []
  },
  {
   "cell_type": "code",
   "execution_count": 46,
   "id": "c5c2a481",
   "metadata": {},
   "outputs": [
    {
     "data": {
      "text/plain": [
       "{'max_features': 0.9563102151848484, 'max_depth': 6}"
      ]
     },
     "execution_count": 46,
     "metadata": {},
     "output_type": "execute_result"
    }
   ],
   "source": [
    "clf.best_params_"
   ]
  },
  {
   "cell_type": "code",
   "execution_count": 47,
   "id": "c27aa8fc",
   "metadata": {},
   "outputs": [
    {
     "data": {
      "text/plain": [
       "0.859962681594029"
      ]
     },
     "execution_count": 47,
     "metadata": {},
     "output_type": "execute_result"
    }
   ],
   "source": [
    "clf.best_score_"
   ]
  },
  {
   "cell_type": "markdown",
   "id": "7b0aebf9",
   "metadata": {},
   "source": [
    "# 학습과 예측"
   ]
  },
  {
   "cell_type": "code",
   "execution_count": 31,
   "id": "aad626e0",
   "metadata": {},
   "outputs": [
    {
     "data": {
      "text/plain": [
       "array([1.06409948e-01, 7.04053663e-03, 6.57236021e-02, 3.73742490e-02,\n",
       "       2.62954875e-02, 9.47259928e-02, 1.56708089e-04, 6.62273475e-01,\n",
       "       0.00000000e+00])"
      ]
     },
     "execution_count": 31,
     "metadata": {},
     "output_type": "execute_result"
    }
   ],
   "source": [
    "model.fit(X_train, y_train) #학습\n",
    "model.feature_importances_"
   ]
  },
  {
   "cell_type": "code",
   "execution_count": 32,
   "id": "891a47db",
   "metadata": {
    "collapsed": true
   },
   "outputs": [
    {
     "data": {
      "text/plain": [
       "<Axes: >"
      ]
     },
     "execution_count": 32,
     "metadata": {},
     "output_type": "execute_result"
    },
    {
     "data": {
      "image/png": "[encoded data removed]",
      "text/plain": [
       "<Figure size 640x480 with 1 Axes>"
      ]
     },
     "metadata": {},
     "output_type": "display_data"
    }
   ],
   "source": [
    "feature_names = X_train.columns.tolist()\n",
    "sns.barplot(x=model.feature_importances_,\n",
    "               y=feature_names)"
   ]
  },
  {
   "cell_type": "code",
   "execution_count": 33,
   "id": "a8e1ac9e",
   "metadata": {},
   "outputs": [
    {
     "data": {
      "text/plain": [
       "array([1, 0, 0, 0, 0], dtype=int64)"
      ]
     },
     "execution_count": 33,
     "metadata": {},
     "output_type": "execute_result"
    }
   ],
   "source": [
    "y_predict = model.predict(X_test) #예측값 찾기\n",
    "y_predict[:5]"
   ]
  },
  {
   "cell_type": "markdown",
   "id": "82c5357c",
   "metadata": {},
   "source": [
    "# 정확도 측정 Accuracy\n",
    "* DecisionTree(DT) \n",
    "* Random Forest(RF)\n",
    "* GradientBoosting(GB)"
   ]
  },
  {
   "cell_type": "code",
   "execution_count": 34,
   "id": "def89a20",
   "metadata": {},
   "outputs": [
    {
     "data": {
      "text/plain": [
       "24"
      ]
     },
     "execution_count": 34,
     "metadata": {},
     "output_type": "execute_result"
    }
   ],
   "source": [
    "diff_count = (y_predict != y_test).sum()\n",
    "diff_count\n",
    "# DT : 28\n",
    "# RF : 20\n",
    "# GB : 24"
   ]
  },
  {
   "cell_type": "code",
   "execution_count": 35,
   "id": "69a4b50c",
   "metadata": {},
   "outputs": [
    {
     "data": {
      "text/plain": [
       "0.8441558441558441"
      ]
     },
     "execution_count": 35,
     "metadata": {},
     "output_type": "execute_result"
    }
   ],
   "source": [
    "from sklearn.metrics import accuracy_score\n",
    "accuracy_score(y_test, y_predict)\n",
    "# DT: 0.818\n",
    "# RF: 0.870\n",
    "# GB: 0.844"
   ]
  },
  {
   "cell_type": "code",
   "execution_count": null,
   "id": "794fbf3a",
   "metadata": {},
   "outputs": [],
   "source": []
  },
  {
   "cell_type": "code",
   "execution_count": null,
   "id": "b7a65583",
   "metadata": {},
   "outputs": [],
   "source": []
  },
  {
   "cell_type": "code",
   "execution_count": null,
   "id": "fae9b057",
   "metadata": {},
   "outputs": [],
   "source": []
  },
  {
   "cell_type": "code",
   "execution_count": null,
   "id": "097353a5",
   "metadata": {},
   "outputs": [],
   "source": []
  },
  {
   "cell_type": "code",
   "execution_count": null,
   "id": "4746584d",
   "metadata": {},
   "outputs": [],
   "source": []
  },
  {
   "cell_type": "code",
   "execution_count": null,
   "id": "019150e3",
   "metadata": {},
   "outputs": [],
   "source": []
  },
  {
   "cell_type": "code",
   "execution_count": null,
   "id": "fe3b58cf",
   "metadata": {},
   "outputs": [],
   "source": []
  }
 ],
 "metadata": {
  "kernelspec": {
   "display_name": "Python 3 (ipykernel)",
   "language": "python",
   "name": "python3"
  },
  "language_info": {
   "codemirror_mode": {
    "name": "ipython",
    "version": 3
   },
   "file_extension": ".py",
   "mimetype": "text/x-python",
   "name": "python",
   "nbconvert_exporter": "python",
   "pygments_lexer": "ipython3",
   "version": "3.9.18"
  },
  "toc": {
   "base_numbering": 1,
   "nav_menu": {},
   "number_sections": true,
   "sideBar": true,
   "skip_h1_title": false,
   "title_cell": "Table of Contents",
   "title_sidebar": "Contents",
   "toc_cell": false,
   "toc_position": {},
   "toc_section_display": true,
   "toc_window_display": false
  }
 },
 "nbformat": 4,
 "nbformat_minor": 5
}
